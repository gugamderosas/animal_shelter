{
  "nbformat": 4,
  "nbformat_minor": 0,
  "metadata": {
    "colab": {
      "name": "animal_shelter.ipynb",
      "provenance": [],
      "collapsed_sections": []
    },
    "kernelspec": {
      "name": "python3",
      "display_name": "Python 3"
    },
    "language_info": {
      "name": "python"
    }
  },
  "cells": [
    {
      "cell_type": "code",
      "metadata": {
        "id": "zwuJWsGzj0RP"
      },
      "source": [
        "import pandas as pd\n",
        "import numpy as np\n",
        "import seaborn as sns\n",
        "import matplotlib.pyplot as plt\n",
        "import datetime as dt\n",
        "from sklearn.model_selection import train_test_split\n",
        "from sklearn.tree import DecisionTreeClassifier\n",
        "from sklearn.metrics import classification_report, confusion_matrix\n",
        "from sklearn.ensemble import RandomForestClassifier\n",
        "from sklearn import preprocessing"
      ],
      "execution_count": null,
      "outputs": []
    },
    {
      "cell_type": "code",
      "metadata": {
        "id": "Zpwz0LqykWNI",
        "colab": {
          "base_uri": "https://localhost:8080/"
        },
        "outputId": "666d3b3b-d658-4b92-eed0-541b4dd7896b"
      },
      "source": [
        "# Importar o drive do google\n",
        "from google.colab import drive\n",
        "drive.mount('/content/drive')"
      ],
      "execution_count": null,
      "outputs": [
        {
          "output_type": "stream",
          "name": "stdout",
          "text": [
            "Mounted at /content/drive\n"
          ]
        }
      ]
    },
    {
      "cell_type": "code",
      "metadata": {
        "id": "eOnqIcxhkjqq"
      },
      "source": [
        "# Leitura da base\n",
        "df = pd.read_csv('/content/drive/MyDrive/ESTUDOS_COLAB/train.csv', sep=',')"
      ],
      "execution_count": null,
      "outputs": []
    },
    {
      "cell_type": "code",
      "metadata": {
        "colab": {
          "base_uri": "https://localhost:8080/",
          "height": 204
        },
        "id": "4Db9kkFYk4Ll",
        "outputId": "8671a72f-f655-4097-c647-6901c95f0bd8"
      },
      "source": [
        "df.head()"
      ],
      "execution_count": null,
      "outputs": [
        {
          "output_type": "execute_result",
          "data": {
            "text/html": [
              "<div>\n",
              "<style scoped>\n",
              "    .dataframe tbody tr th:only-of-type {\n",
              "        vertical-align: middle;\n",
              "    }\n",
              "\n",
              "    .dataframe tbody tr th {\n",
              "        vertical-align: top;\n",
              "    }\n",
              "\n",
              "    .dataframe thead th {\n",
              "        text-align: right;\n",
              "    }\n",
              "</style>\n",
              "<table border=\"1\" class=\"dataframe\">\n",
              "  <thead>\n",
              "    <tr style=\"text-align: right;\">\n",
              "      <th></th>\n",
              "      <th>AnimalID</th>\n",
              "      <th>Name</th>\n",
              "      <th>DateTime</th>\n",
              "      <th>OutcomeType</th>\n",
              "      <th>OutcomeSubtype</th>\n",
              "      <th>AnimalType</th>\n",
              "      <th>SexuponOutcome</th>\n",
              "      <th>AgeuponOutcome</th>\n",
              "      <th>Breed</th>\n",
              "      <th>Color</th>\n",
              "    </tr>\n",
              "  </thead>\n",
              "  <tbody>\n",
              "    <tr>\n",
              "      <th>0</th>\n",
              "      <td>A671945</td>\n",
              "      <td>Hambone</td>\n",
              "      <td>2014-02-12 18:22:00</td>\n",
              "      <td>Return_to_owner</td>\n",
              "      <td>NaN</td>\n",
              "      <td>Dog</td>\n",
              "      <td>Neutered Male</td>\n",
              "      <td>1 year</td>\n",
              "      <td>Shetland Sheepdog Mix</td>\n",
              "      <td>Brown/White</td>\n",
              "    </tr>\n",
              "    <tr>\n",
              "      <th>1</th>\n",
              "      <td>A656520</td>\n",
              "      <td>Emily</td>\n",
              "      <td>2013-10-13 12:44:00</td>\n",
              "      <td>Euthanasia</td>\n",
              "      <td>Suffering</td>\n",
              "      <td>Cat</td>\n",
              "      <td>Spayed Female</td>\n",
              "      <td>1 year</td>\n",
              "      <td>Domestic Shorthair Mix</td>\n",
              "      <td>Cream Tabby</td>\n",
              "    </tr>\n",
              "    <tr>\n",
              "      <th>2</th>\n",
              "      <td>A686464</td>\n",
              "      <td>Pearce</td>\n",
              "      <td>2015-01-31 12:28:00</td>\n",
              "      <td>Adoption</td>\n",
              "      <td>Foster</td>\n",
              "      <td>Dog</td>\n",
              "      <td>Neutered Male</td>\n",
              "      <td>2 years</td>\n",
              "      <td>Pit Bull Mix</td>\n",
              "      <td>Blue/White</td>\n",
              "    </tr>\n",
              "    <tr>\n",
              "      <th>3</th>\n",
              "      <td>A683430</td>\n",
              "      <td>NaN</td>\n",
              "      <td>2014-07-11 19:09:00</td>\n",
              "      <td>Transfer</td>\n",
              "      <td>Partner</td>\n",
              "      <td>Cat</td>\n",
              "      <td>Intact Male</td>\n",
              "      <td>3 weeks</td>\n",
              "      <td>Domestic Shorthair Mix</td>\n",
              "      <td>Blue Cream</td>\n",
              "    </tr>\n",
              "    <tr>\n",
              "      <th>4</th>\n",
              "      <td>A667013</td>\n",
              "      <td>NaN</td>\n",
              "      <td>2013-11-15 12:52:00</td>\n",
              "      <td>Transfer</td>\n",
              "      <td>Partner</td>\n",
              "      <td>Dog</td>\n",
              "      <td>Neutered Male</td>\n",
              "      <td>2 years</td>\n",
              "      <td>Lhasa Apso/Miniature Poodle</td>\n",
              "      <td>Tan</td>\n",
              "    </tr>\n",
              "  </tbody>\n",
              "</table>\n",
              "</div>"
            ],
            "text/plain": [
              "  AnimalID     Name  ...                        Breed        Color\n",
              "0  A671945  Hambone  ...        Shetland Sheepdog Mix  Brown/White\n",
              "1  A656520    Emily  ...       Domestic Shorthair Mix  Cream Tabby\n",
              "2  A686464   Pearce  ...                 Pit Bull Mix   Blue/White\n",
              "3  A683430      NaN  ...       Domestic Shorthair Mix   Blue Cream\n",
              "4  A667013      NaN  ...  Lhasa Apso/Miniature Poodle          Tan\n",
              "\n",
              "[5 rows x 10 columns]"
            ]
          },
          "metadata": {},
          "execution_count": 29
        }
      ]
    },
    {
      "cell_type": "code",
      "metadata": {
        "colab": {
          "base_uri": "https://localhost:8080/",
          "height": 235
        },
        "id": "3egfQdwSKxXP",
        "outputId": "8fbcdcdf-32ec-4bd7-b42a-0cf2eec251e6"
      },
      "source": [
        "#crosstable -> tabela dinamica , bom para fazer umas validações\n",
        "x_test = pd.crosstab(df['OutcomeType'], df['AnimalType'], normalize='index')\n",
        "x_test"
      ],
      "execution_count": null,
      "outputs": [
        {
          "output_type": "execute_result",
          "data": {
            "text/html": [
              "<div>\n",
              "<style scoped>\n",
              "    .dataframe tbody tr th:only-of-type {\n",
              "        vertical-align: middle;\n",
              "    }\n",
              "\n",
              "    .dataframe tbody tr th {\n",
              "        vertical-align: top;\n",
              "    }\n",
              "\n",
              "    .dataframe thead th {\n",
              "        text-align: right;\n",
              "    }\n",
              "</style>\n",
              "<table border=\"1\" class=\"dataframe\">\n",
              "  <thead>\n",
              "    <tr style=\"text-align: right;\">\n",
              "      <th>AnimalType</th>\n",
              "      <th>Cat</th>\n",
              "      <th>Dog</th>\n",
              "    </tr>\n",
              "    <tr>\n",
              "      <th>OutcomeType</th>\n",
              "      <th></th>\n",
              "      <th></th>\n",
              "    </tr>\n",
              "  </thead>\n",
              "  <tbody>\n",
              "    <tr>\n",
              "      <th>Adoption</th>\n",
              "      <td>0.396694</td>\n",
              "      <td>0.603306</td>\n",
              "    </tr>\n",
              "    <tr>\n",
              "      <th>Died</th>\n",
              "      <td>0.746193</td>\n",
              "      <td>0.253807</td>\n",
              "    </tr>\n",
              "    <tr>\n",
              "      <th>Euthanasia</th>\n",
              "      <td>0.456592</td>\n",
              "      <td>0.543408</td>\n",
              "    </tr>\n",
              "    <tr>\n",
              "      <th>Return_to_owner</th>\n",
              "      <td>0.104471</td>\n",
              "      <td>0.895529</td>\n",
              "    </tr>\n",
              "    <tr>\n",
              "      <th>Transfer</th>\n",
              "      <td>0.584271</td>\n",
              "      <td>0.415729</td>\n",
              "    </tr>\n",
              "  </tbody>\n",
              "</table>\n",
              "</div>"
            ],
            "text/plain": [
              "AnimalType            Cat       Dog\n",
              "OutcomeType                        \n",
              "Adoption         0.396694  0.603306\n",
              "Died             0.746193  0.253807\n",
              "Euthanasia       0.456592  0.543408\n",
              "Return_to_owner  0.104471  0.895529\n",
              "Transfer         0.584271  0.415729"
            ]
          },
          "metadata": {},
          "execution_count": 30
        }
      ]
    },
    {
      "cell_type": "code",
      "metadata": {
        "colab": {
          "base_uri": "https://localhost:8080/"
        },
        "id": "q8hgPSlcv28t",
        "outputId": "ee57e0b9-1a21-4d42-dca9-dd071d428cdd"
      },
      "source": [
        "# Qual status mais proveniente?\n",
        "df['OutcomeType'].value_counts(normalize=True)"
      ],
      "execution_count": null,
      "outputs": [
        {
          "output_type": "execute_result",
          "data": {
            "text/plain": [
              "Adoption           0.402896\n",
              "Transfer           0.352501\n",
              "Return_to_owner    0.179056\n",
              "Euthanasia         0.058177\n",
              "Died               0.007370\n",
              "Name: OutcomeType, dtype: float64"
            ]
          },
          "metadata": {
            "tags": []
          },
          "execution_count": 5
        }
      ]
    },
    {
      "cell_type": "code",
      "metadata": {
        "id": "wkHozz68x7xP"
      },
      "source": [
        "# Retirar colunas que não interessam\n",
        "df.drop(labels=['AnimalID','Name'], axis=1, inplace=True)"
      ],
      "execution_count": null,
      "outputs": []
    },
    {
      "cell_type": "code",
      "metadata": {
        "colab": {
          "base_uri": "https://localhost:8080/",
          "height": 204
        },
        "id": "YiymGrS3zuZn",
        "outputId": "e9bb936d-6422-44ff-efb0-f4eb20ade03f"
      },
      "source": [
        "df.head()"
      ],
      "execution_count": null,
      "outputs": [
        {
          "output_type": "execute_result",
          "data": {
            "text/html": [
              "<div>\n",
              "<style scoped>\n",
              "    .dataframe tbody tr th:only-of-type {\n",
              "        vertical-align: middle;\n",
              "    }\n",
              "\n",
              "    .dataframe tbody tr th {\n",
              "        vertical-align: top;\n",
              "    }\n",
              "\n",
              "    .dataframe thead th {\n",
              "        text-align: right;\n",
              "    }\n",
              "</style>\n",
              "<table border=\"1\" class=\"dataframe\">\n",
              "  <thead>\n",
              "    <tr style=\"text-align: right;\">\n",
              "      <th></th>\n",
              "      <th>DateTime</th>\n",
              "      <th>OutcomeType</th>\n",
              "      <th>OutcomeSubtype</th>\n",
              "      <th>AnimalType</th>\n",
              "      <th>SexuponOutcome</th>\n",
              "      <th>AgeuponOutcome</th>\n",
              "      <th>Breed</th>\n",
              "      <th>Color</th>\n",
              "    </tr>\n",
              "  </thead>\n",
              "  <tbody>\n",
              "    <tr>\n",
              "      <th>0</th>\n",
              "      <td>2014-02-12 18:22:00</td>\n",
              "      <td>Return_to_owner</td>\n",
              "      <td>NaN</td>\n",
              "      <td>Dog</td>\n",
              "      <td>Neutered Male</td>\n",
              "      <td>1 year</td>\n",
              "      <td>Shetland Sheepdog Mix</td>\n",
              "      <td>Brown/White</td>\n",
              "    </tr>\n",
              "    <tr>\n",
              "      <th>1</th>\n",
              "      <td>2013-10-13 12:44:00</td>\n",
              "      <td>Euthanasia</td>\n",
              "      <td>Suffering</td>\n",
              "      <td>Cat</td>\n",
              "      <td>Spayed Female</td>\n",
              "      <td>1 year</td>\n",
              "      <td>Domestic Shorthair Mix</td>\n",
              "      <td>Cream Tabby</td>\n",
              "    </tr>\n",
              "    <tr>\n",
              "      <th>2</th>\n",
              "      <td>2015-01-31 12:28:00</td>\n",
              "      <td>Adoption</td>\n",
              "      <td>Foster</td>\n",
              "      <td>Dog</td>\n",
              "      <td>Neutered Male</td>\n",
              "      <td>2 years</td>\n",
              "      <td>Pit Bull Mix</td>\n",
              "      <td>Blue/White</td>\n",
              "    </tr>\n",
              "    <tr>\n",
              "      <th>3</th>\n",
              "      <td>2014-07-11 19:09:00</td>\n",
              "      <td>Transfer</td>\n",
              "      <td>Partner</td>\n",
              "      <td>Cat</td>\n",
              "      <td>Intact Male</td>\n",
              "      <td>3 weeks</td>\n",
              "      <td>Domestic Shorthair Mix</td>\n",
              "      <td>Blue Cream</td>\n",
              "    </tr>\n",
              "    <tr>\n",
              "      <th>4</th>\n",
              "      <td>2013-11-15 12:52:00</td>\n",
              "      <td>Transfer</td>\n",
              "      <td>Partner</td>\n",
              "      <td>Dog</td>\n",
              "      <td>Neutered Male</td>\n",
              "      <td>2 years</td>\n",
              "      <td>Lhasa Apso/Miniature Poodle</td>\n",
              "      <td>Tan</td>\n",
              "    </tr>\n",
              "  </tbody>\n",
              "</table>\n",
              "</div>"
            ],
            "text/plain": [
              "              DateTime  ...        Color\n",
              "0  2014-02-12 18:22:00  ...  Brown/White\n",
              "1  2013-10-13 12:44:00  ...  Cream Tabby\n",
              "2  2015-01-31 12:28:00  ...   Blue/White\n",
              "3  2014-07-11 19:09:00  ...   Blue Cream\n",
              "4  2013-11-15 12:52:00  ...          Tan\n",
              "\n",
              "[5 rows x 8 columns]"
            ]
          },
          "metadata": {
            "tags": []
          },
          "execution_count": 7
        }
      ]
    },
    {
      "cell_type": "markdown",
      "metadata": {
        "id": "abFs_GAXAg77"
      },
      "source": [
        "# Explore Data Analysis"
      ]
    },
    {
      "cell_type": "code",
      "metadata": {
        "colab": {
          "base_uri": "https://localhost:8080/",
          "height": 359
        },
        "id": "rVQyzug55_xz",
        "outputId": "b6f40797-0aa1-449d-c351-276ae5f7bb8a"
      },
      "source": [
        "# Agrupar a base e comecar a EDA\n",
        "df_g = df.groupby(by=['OutcomeType','AnimalType']).count()\n",
        "df_g = df_g.reset_index()\n",
        "df_g = df_g[['OutcomeType','AnimalType','DateTime']].sort_values(by=['DateTime'], ascending=False)\n",
        "df_g"
      ],
      "execution_count": null,
      "outputs": [
        {
          "output_type": "execute_result",
          "data": {
            "text/html": [
              "<div>\n",
              "<style scoped>\n",
              "    .dataframe tbody tr th:only-of-type {\n",
              "        vertical-align: middle;\n",
              "    }\n",
              "\n",
              "    .dataframe tbody tr th {\n",
              "        vertical-align: top;\n",
              "    }\n",
              "\n",
              "    .dataframe thead th {\n",
              "        text-align: right;\n",
              "    }\n",
              "</style>\n",
              "<table border=\"1\" class=\"dataframe\">\n",
              "  <thead>\n",
              "    <tr style=\"text-align: right;\">\n",
              "      <th></th>\n",
              "      <th>OutcomeType</th>\n",
              "      <th>AnimalType</th>\n",
              "      <th>DateTime</th>\n",
              "    </tr>\n",
              "  </thead>\n",
              "  <tbody>\n",
              "    <tr>\n",
              "      <th>1</th>\n",
              "      <td>Adoption</td>\n",
              "      <td>Dog</td>\n",
              "      <td>6497</td>\n",
              "    </tr>\n",
              "    <tr>\n",
              "      <th>8</th>\n",
              "      <td>Transfer</td>\n",
              "      <td>Cat</td>\n",
              "      <td>5505</td>\n",
              "    </tr>\n",
              "    <tr>\n",
              "      <th>7</th>\n",
              "      <td>Return_to_owner</td>\n",
              "      <td>Dog</td>\n",
              "      <td>4286</td>\n",
              "    </tr>\n",
              "    <tr>\n",
              "      <th>0</th>\n",
              "      <td>Adoption</td>\n",
              "      <td>Cat</td>\n",
              "      <td>4272</td>\n",
              "    </tr>\n",
              "    <tr>\n",
              "      <th>9</th>\n",
              "      <td>Transfer</td>\n",
              "      <td>Dog</td>\n",
              "      <td>3917</td>\n",
              "    </tr>\n",
              "    <tr>\n",
              "      <th>5</th>\n",
              "      <td>Euthanasia</td>\n",
              "      <td>Dog</td>\n",
              "      <td>845</td>\n",
              "    </tr>\n",
              "    <tr>\n",
              "      <th>4</th>\n",
              "      <td>Euthanasia</td>\n",
              "      <td>Cat</td>\n",
              "      <td>710</td>\n",
              "    </tr>\n",
              "    <tr>\n",
              "      <th>6</th>\n",
              "      <td>Return_to_owner</td>\n",
              "      <td>Cat</td>\n",
              "      <td>500</td>\n",
              "    </tr>\n",
              "    <tr>\n",
              "      <th>2</th>\n",
              "      <td>Died</td>\n",
              "      <td>Cat</td>\n",
              "      <td>147</td>\n",
              "    </tr>\n",
              "    <tr>\n",
              "      <th>3</th>\n",
              "      <td>Died</td>\n",
              "      <td>Dog</td>\n",
              "      <td>50</td>\n",
              "    </tr>\n",
              "  </tbody>\n",
              "</table>\n",
              "</div>"
            ],
            "text/plain": [
              "       OutcomeType AnimalType  DateTime\n",
              "1         Adoption        Dog      6497\n",
              "8         Transfer        Cat      5505\n",
              "7  Return_to_owner        Dog      4286\n",
              "0         Adoption        Cat      4272\n",
              "9         Transfer        Dog      3917\n",
              "5       Euthanasia        Dog       845\n",
              "4       Euthanasia        Cat       710\n",
              "6  Return_to_owner        Cat       500\n",
              "2             Died        Cat       147\n",
              "3             Died        Dog        50"
            ]
          },
          "metadata": {
            "tags": []
          },
          "execution_count": 8
        }
      ]
    },
    {
      "cell_type": "code",
      "metadata": {
        "colab": {
          "base_uri": "https://localhost:8080/",
          "height": 297
        },
        "id": "hB754YZn8gRB",
        "outputId": "dfe1ba62-740b-4567-f2dd-47f463177776"
      },
      "source": [
        "# Verificar qual os status com a especie -> Percebemos aqui que os cachorros são mais adotados que os gatinhos, os gatinhos são mais transferidos\n",
        "sns.barplot(x='OutcomeType', y=\"DateTime\", hue='AnimalType' ,data=df_g)"
      ],
      "execution_count": null,
      "outputs": [
        {
          "output_type": "execute_result",
          "data": {
            "text/plain": [
              "<matplotlib.axes._subplots.AxesSubplot at 0x7fb5a410ca50>"
            ]
          },
          "metadata": {
            "tags": []
          },
          "execution_count": 9
        },
        {
          "output_type": "display_data",
          "data": {
            "image/png": "[encoded data removed]",
            "text/plain": [
              "<Figure size 432x288 with 1 Axes>"
            ]
          },
          "metadata": {
            "tags": [],
            "needs_background": "light"
          }
        }
      ]
    },
    {
      "cell_type": "code",
      "metadata": {
        "colab": {
          "base_uri": "https://localhost:8080/",
          "height": 296
        },
        "id": "zKls-uVj9FX4",
        "outputId": "4d286b03-23d4-405e-c1a4-a6dab24bd54f"
      },
      "source": [
        "# Aqui eu quero testar se os cachorros adotados são castrados\n",
        "x = df[df['OutcomeType']=='Adoption'] # Filtrar na tabela tudo que foi adotado\n",
        "x = x[x['AnimalType']=='Dog'] # Filtrar na tabela de adotados tudo que é cachorro\n",
        "df_gg = x.groupby(by=['OutcomeType','SexuponOutcome']).count() # Agrupamento\n",
        "df_gg = df_gg.reset_index() # Retirar indices\n",
        "sns.barplot(x='SexuponOutcome', y=\"DateTime\" ,data=df_gg) # Plotar o gráfico\n",
        "# Aqui é possivel concluir que praticamente todos os doguinhos adotados são castrados"
      ],
      "execution_count": null,
      "outputs": [
        {
          "output_type": "execute_result",
          "data": {
            "text/plain": [
              "<matplotlib.axes._subplots.AxesSubplot at 0x7fb5a4028090>"
            ]
          },
          "metadata": {
            "tags": []
          },
          "execution_count": 10
        },
        {
          "output_type": "display_data",
          "data": {
            "image/png": "[encoded data removed]",
            "text/plain": [
              "<Figure size 432x288 with 1 Axes>"
            ]
          },
          "metadata": {
            "tags": [],
            "needs_background": "light"
          }
        }
      ]
    },
    {
      "cell_type": "code",
      "metadata": {
        "colab": {
          "base_uri": "https://localhost:8080/",
          "height": 204
        },
        "id": "5EIx5-9EBler",
        "outputId": "80870f76-6ef7-437b-97d7-e1f28aa7632b"
      },
      "source": [
        "# Aqui eu quero saber o tempo que os dog's adotados ficaram no abrigo\n",
        "y = df[(df['OutcomeType']=='Adoption') & (df['AnimalType']=='Dog')].groupby(by=['AgeuponOutcome']).count()\n",
        "y = y.reset_index()\n",
        "y = y[['AgeuponOutcome','DateTime']].sort_values(by=['DateTime'], ascending = False)\n",
        "y.head(5)\n",
        "# Os dog's que possuem em média 2 anos no abrigo"
      ],
      "execution_count": null,
      "outputs": [
        {
          "output_type": "execute_result",
          "data": {
            "text/html": [
              "<div>\n",
              "<style scoped>\n",
              "    .dataframe tbody tr th:only-of-type {\n",
              "        vertical-align: middle;\n",
              "    }\n",
              "\n",
              "    .dataframe tbody tr th {\n",
              "        vertical-align: top;\n",
              "    }\n",
              "\n",
              "    .dataframe thead th {\n",
              "        text-align: right;\n",
              "    }\n",
              "</style>\n",
              "<table border=\"1\" class=\"dataframe\">\n",
              "  <thead>\n",
              "    <tr style=\"text-align: right;\">\n",
              "      <th></th>\n",
              "      <th>AgeuponOutcome</th>\n",
              "      <th>DateTime</th>\n",
              "    </tr>\n",
              "  </thead>\n",
              "  <tbody>\n",
              "    <tr>\n",
              "      <th>1</th>\n",
              "      <td>1 year</td>\n",
              "      <td>1354</td>\n",
              "    </tr>\n",
              "    <tr>\n",
              "      <th>12</th>\n",
              "      <td>2 years</td>\n",
              "      <td>1161</td>\n",
              "    </tr>\n",
              "    <tr>\n",
              "      <th>11</th>\n",
              "      <td>2 months</td>\n",
              "      <td>837</td>\n",
              "    </tr>\n",
              "    <tr>\n",
              "      <th>14</th>\n",
              "      <td>3 years</td>\n",
              "      <td>484</td>\n",
              "    </tr>\n",
              "    <tr>\n",
              "      <th>16</th>\n",
              "      <td>4 years</td>\n",
              "      <td>281</td>\n",
              "    </tr>\n",
              "  </tbody>\n",
              "</table>\n",
              "</div>"
            ],
            "text/plain": [
              "   AgeuponOutcome  DateTime\n",
              "1          1 year      1354\n",
              "12        2 years      1161\n",
              "11       2 months       837\n",
              "14        3 years       484\n",
              "16        4 years       281"
            ]
          },
          "metadata": {
            "tags": []
          },
          "execution_count": 11
        }
      ]
    },
    {
      "cell_type": "code",
      "metadata": {
        "id": "vGp_6jPYB9qp",
        "colab": {
          "base_uri": "https://localhost:8080/",
          "height": 419
        },
        "outputId": "01c223c2-302d-48e7-83a8-31f67f48d1c0"
      },
      "source": [
        "# Preparar para calcular a média de dias abrigado, fazendo uma transformação dos dados\n",
        "df_t = df['AgeuponOutcome'].str.split(expand = True)\n",
        "df_t  = df_t.rename(columns={0: \"Number\", 1: \"Date_Status\"})\n",
        "df_t"
      ],
      "execution_count": null,
      "outputs": [
        {
          "output_type": "execute_result",
          "data": {
            "text/html": [
              "<div>\n",
              "<style scoped>\n",
              "    .dataframe tbody tr th:only-of-type {\n",
              "        vertical-align: middle;\n",
              "    }\n",
              "\n",
              "    .dataframe tbody tr th {\n",
              "        vertical-align: top;\n",
              "    }\n",
              "\n",
              "    .dataframe thead th {\n",
              "        text-align: right;\n",
              "    }\n",
              "</style>\n",
              "<table border=\"1\" class=\"dataframe\">\n",
              "  <thead>\n",
              "    <tr style=\"text-align: right;\">\n",
              "      <th></th>\n",
              "      <th>Number</th>\n",
              "      <th>Date_Status</th>\n",
              "    </tr>\n",
              "  </thead>\n",
              "  <tbody>\n",
              "    <tr>\n",
              "      <th>0</th>\n",
              "      <td>1</td>\n",
              "      <td>year</td>\n",
              "    </tr>\n",
              "    <tr>\n",
              "      <th>1</th>\n",
              "      <td>1</td>\n",
              "      <td>year</td>\n",
              "    </tr>\n",
              "    <tr>\n",
              "      <th>2</th>\n",
              "      <td>2</td>\n",
              "      <td>years</td>\n",
              "    </tr>\n",
              "    <tr>\n",
              "      <th>3</th>\n",
              "      <td>3</td>\n",
              "      <td>weeks</td>\n",
              "    </tr>\n",
              "    <tr>\n",
              "      <th>4</th>\n",
              "      <td>2</td>\n",
              "      <td>years</td>\n",
              "    </tr>\n",
              "    <tr>\n",
              "      <th>...</th>\n",
              "      <td>...</td>\n",
              "      <td>...</td>\n",
              "    </tr>\n",
              "    <tr>\n",
              "      <th>26724</th>\n",
              "      <td>1</td>\n",
              "      <td>month</td>\n",
              "    </tr>\n",
              "    <tr>\n",
              "      <th>26725</th>\n",
              "      <td>3</td>\n",
              "      <td>months</td>\n",
              "    </tr>\n",
              "    <tr>\n",
              "      <th>26726</th>\n",
              "      <td>4</td>\n",
              "      <td>years</td>\n",
              "    </tr>\n",
              "    <tr>\n",
              "      <th>26727</th>\n",
              "      <td>4</td>\n",
              "      <td>weeks</td>\n",
              "    </tr>\n",
              "    <tr>\n",
              "      <th>26728</th>\n",
              "      <td>1</td>\n",
              "      <td>year</td>\n",
              "    </tr>\n",
              "  </tbody>\n",
              "</table>\n",
              "<p>26729 rows × 2 columns</p>\n",
              "</div>"
            ],
            "text/plain": [
              "      Number Date_Status\n",
              "0          1        year\n",
              "1          1        year\n",
              "2          2       years\n",
              "3          3       weeks\n",
              "4          2       years\n",
              "...      ...         ...\n",
              "26724      1       month\n",
              "26725      3      months\n",
              "26726      4       years\n",
              "26727      4       weeks\n",
              "26728      1        year\n",
              "\n",
              "[26729 rows x 2 columns]"
            ]
          },
          "metadata": {
            "tags": []
          },
          "execution_count": 12
        }
      ]
    },
    {
      "cell_type": "code",
      "metadata": {
        "id": "-qQ_LncktSr0"
      },
      "source": [
        "# Funçãozinha para transformar para dias\n",
        "def coloca(cols):\n",
        "    Locais = cols[1]\n",
        "    if Locais == 'day':\n",
        "        return 1\n",
        "    elif Locais =='days':\n",
        "        return 1\n",
        "    elif Locais == 'month':\n",
        "        return 30\n",
        "    elif Locais == 'months':\n",
        "        return 30\n",
        "    elif Locais == 'week':\n",
        "        return 7\n",
        "    elif Locais == 'weeks':\n",
        "        return 7\n",
        "    elif Locais == 'year':\n",
        "        return 365\n",
        "    else:\n",
        "        return 365"
      ],
      "execution_count": null,
      "outputs": []
    },
    {
      "cell_type": "code",
      "metadata": {
        "colab": {
          "base_uri": "https://localhost:8080/",
          "height": 419
        },
        "id": "tcNq5I0NuoZd",
        "outputId": "af5604c0-818c-4a3c-d4d3-9c0eb6efff39"
      },
      "source": [
        "# Calcular o total de dias com base na funçãozinha\n",
        "df_t['Conversion'] = df_t.apply(coloca, axis=1)\n",
        "df_t['Number'] = pd.to_numeric(df_t['Number'], downcast='integer')\n",
        "df_t['Conversion'] = pd.to_numeric(df_t['Conversion'])\n",
        "df_t['TotalDias'] = df_t['Number']*df_t['Conversion']\n",
        "df_t"
      ],
      "execution_count": null,
      "outputs": [
        {
          "output_type": "execute_result",
          "data": {
            "text/html": [
              "<div>\n",
              "<style scoped>\n",
              "    .dataframe tbody tr th:only-of-type {\n",
              "        vertical-align: middle;\n",
              "    }\n",
              "\n",
              "    .dataframe tbody tr th {\n",
              "        vertical-align: top;\n",
              "    }\n",
              "\n",
              "    .dataframe thead th {\n",
              "        text-align: right;\n",
              "    }\n",
              "</style>\n",
              "<table border=\"1\" class=\"dataframe\">\n",
              "  <thead>\n",
              "    <tr style=\"text-align: right;\">\n",
              "      <th></th>\n",
              "      <th>Number</th>\n",
              "      <th>Date_Status</th>\n",
              "      <th>Conversion</th>\n",
              "      <th>TotalDias</th>\n",
              "    </tr>\n",
              "  </thead>\n",
              "  <tbody>\n",
              "    <tr>\n",
              "      <th>0</th>\n",
              "      <td>1.0</td>\n",
              "      <td>year</td>\n",
              "      <td>365</td>\n",
              "      <td>365.0</td>\n",
              "    </tr>\n",
              "    <tr>\n",
              "      <th>1</th>\n",
              "      <td>1.0</td>\n",
              "      <td>year</td>\n",
              "      <td>365</td>\n",
              "      <td>365.0</td>\n",
              "    </tr>\n",
              "    <tr>\n",
              "      <th>2</th>\n",
              "      <td>2.0</td>\n",
              "      <td>years</td>\n",
              "      <td>365</td>\n",
              "      <td>730.0</td>\n",
              "    </tr>\n",
              "    <tr>\n",
              "      <th>3</th>\n",
              "      <td>3.0</td>\n",
              "      <td>weeks</td>\n",
              "      <td>7</td>\n",
              "      <td>21.0</td>\n",
              "    </tr>\n",
              "    <tr>\n",
              "      <th>4</th>\n",
              "      <td>2.0</td>\n",
              "      <td>years</td>\n",
              "      <td>365</td>\n",
              "      <td>730.0</td>\n",
              "    </tr>\n",
              "    <tr>\n",
              "      <th>...</th>\n",
              "      <td>...</td>\n",
              "      <td>...</td>\n",
              "      <td>...</td>\n",
              "      <td>...</td>\n",
              "    </tr>\n",
              "    <tr>\n",
              "      <th>26724</th>\n",
              "      <td>1.0</td>\n",
              "      <td>month</td>\n",
              "      <td>30</td>\n",
              "      <td>30.0</td>\n",
              "    </tr>\n",
              "    <tr>\n",
              "      <th>26725</th>\n",
              "      <td>3.0</td>\n",
              "      <td>months</td>\n",
              "      <td>30</td>\n",
              "      <td>90.0</td>\n",
              "    </tr>\n",
              "    <tr>\n",
              "      <th>26726</th>\n",
              "      <td>4.0</td>\n",
              "      <td>years</td>\n",
              "      <td>365</td>\n",
              "      <td>1460.0</td>\n",
              "    </tr>\n",
              "    <tr>\n",
              "      <th>26727</th>\n",
              "      <td>4.0</td>\n",
              "      <td>weeks</td>\n",
              "      <td>7</td>\n",
              "      <td>28.0</td>\n",
              "    </tr>\n",
              "    <tr>\n",
              "      <th>26728</th>\n",
              "      <td>1.0</td>\n",
              "      <td>year</td>\n",
              "      <td>365</td>\n",
              "      <td>365.0</td>\n",
              "    </tr>\n",
              "  </tbody>\n",
              "</table>\n",
              "<p>26729 rows × 4 columns</p>\n",
              "</div>"
            ],
            "text/plain": [
              "       Number Date_Status  Conversion  TotalDias\n",
              "0         1.0        year         365      365.0\n",
              "1         1.0        year         365      365.0\n",
              "2         2.0       years         365      730.0\n",
              "3         3.0       weeks           7       21.0\n",
              "4         2.0       years         365      730.0\n",
              "...       ...         ...         ...        ...\n",
              "26724     1.0       month          30       30.0\n",
              "26725     3.0      months          30       90.0\n",
              "26726     4.0       years         365     1460.0\n",
              "26727     4.0       weeks           7       28.0\n",
              "26728     1.0        year         365      365.0\n",
              "\n",
              "[26729 rows x 4 columns]"
            ]
          },
          "metadata": {
            "tags": []
          },
          "execution_count": 14
        }
      ]
    },
    {
      "cell_type": "code",
      "metadata": {
        "colab": {
          "base_uri": "https://localhost:8080/",
          "height": 759
        },
        "id": "e1jFrY2iw-Ja",
        "outputId": "a5386d88-3e1e-43de-d76e-c7787fbacef6"
      },
      "source": [
        "# Juntar com a tabela mãe\n",
        "df = pd.concat([df,df_t],axis=1)\n",
        "df"
      ],
      "execution_count": null,
      "outputs": [
        {
          "output_type": "execute_result",
          "data": {
            "text/html": [
              "<div>\n",
              "<style scoped>\n",
              "    .dataframe tbody tr th:only-of-type {\n",
              "        vertical-align: middle;\n",
              "    }\n",
              "\n",
              "    .dataframe tbody tr th {\n",
              "        vertical-align: top;\n",
              "    }\n",
              "\n",
              "    .dataframe thead th {\n",
              "        text-align: right;\n",
              "    }\n",
              "</style>\n",
              "<table border=\"1\" class=\"dataframe\">\n",
              "  <thead>\n",
              "    <tr style=\"text-align: right;\">\n",
              "      <th></th>\n",
              "      <th>DateTime</th>\n",
              "      <th>OutcomeType</th>\n",
              "      <th>OutcomeSubtype</th>\n",
              "      <th>AnimalType</th>\n",
              "      <th>SexuponOutcome</th>\n",
              "      <th>AgeuponOutcome</th>\n",
              "      <th>Breed</th>\n",
              "      <th>Color</th>\n",
              "      <th>Number</th>\n",
              "      <th>Date_Status</th>\n",
              "      <th>Conversion</th>\n",
              "      <th>TotalDias</th>\n",
              "    </tr>\n",
              "  </thead>\n",
              "  <tbody>\n",
              "    <tr>\n",
              "      <th>0</th>\n",
              "      <td>2014-02-12 18:22:00</td>\n",
              "      <td>Return_to_owner</td>\n",
              "      <td>NaN</td>\n",
              "      <td>Dog</td>\n",
              "      <td>Neutered Male</td>\n",
              "      <td>1 year</td>\n",
              "      <td>Shetland Sheepdog Mix</td>\n",
              "      <td>Brown/White</td>\n",
              "      <td>1.0</td>\n",
              "      <td>year</td>\n",
              "      <td>365</td>\n",
              "      <td>365.0</td>\n",
              "    </tr>\n",
              "    <tr>\n",
              "      <th>1</th>\n",
              "      <td>2013-10-13 12:44:00</td>\n",
              "      <td>Euthanasia</td>\n",
              "      <td>Suffering</td>\n",
              "      <td>Cat</td>\n",
              "      <td>Spayed Female</td>\n",
              "      <td>1 year</td>\n",
              "      <td>Domestic Shorthair Mix</td>\n",
              "      <td>Cream Tabby</td>\n",
              "      <td>1.0</td>\n",
              "      <td>year</td>\n",
              "      <td>365</td>\n",
              "      <td>365.0</td>\n",
              "    </tr>\n",
              "    <tr>\n",
              "      <th>2</th>\n",
              "      <td>2015-01-31 12:28:00</td>\n",
              "      <td>Adoption</td>\n",
              "      <td>Foster</td>\n",
              "      <td>Dog</td>\n",
              "      <td>Neutered Male</td>\n",
              "      <td>2 years</td>\n",
              "      <td>Pit Bull Mix</td>\n",
              "      <td>Blue/White</td>\n",
              "      <td>2.0</td>\n",
              "      <td>years</td>\n",
              "      <td>365</td>\n",
              "      <td>730.0</td>\n",
              "    </tr>\n",
              "    <tr>\n",
              "      <th>3</th>\n",
              "      <td>2014-07-11 19:09:00</td>\n",
              "      <td>Transfer</td>\n",
              "      <td>Partner</td>\n",
              "      <td>Cat</td>\n",
              "      <td>Intact Male</td>\n",
              "      <td>3 weeks</td>\n",
              "      <td>Domestic Shorthair Mix</td>\n",
              "      <td>Blue Cream</td>\n",
              "      <td>3.0</td>\n",
              "      <td>weeks</td>\n",
              "      <td>7</td>\n",
              "      <td>21.0</td>\n",
              "    </tr>\n",
              "    <tr>\n",
              "      <th>4</th>\n",
              "      <td>2013-11-15 12:52:00</td>\n",
              "      <td>Transfer</td>\n",
              "      <td>Partner</td>\n",
              "      <td>Dog</td>\n",
              "      <td>Neutered Male</td>\n",
              "      <td>2 years</td>\n",
              "      <td>Lhasa Apso/Miniature Poodle</td>\n",
              "      <td>Tan</td>\n",
              "      <td>2.0</td>\n",
              "      <td>years</td>\n",
              "      <td>365</td>\n",
              "      <td>730.0</td>\n",
              "    </tr>\n",
              "    <tr>\n",
              "      <th>...</th>\n",
              "      <td>...</td>\n",
              "      <td>...</td>\n",
              "      <td>...</td>\n",
              "      <td>...</td>\n",
              "      <td>...</td>\n",
              "      <td>...</td>\n",
              "      <td>...</td>\n",
              "      <td>...</td>\n",
              "      <td>...</td>\n",
              "      <td>...</td>\n",
              "      <td>...</td>\n",
              "      <td>...</td>\n",
              "    </tr>\n",
              "    <tr>\n",
              "      <th>26724</th>\n",
              "      <td>2015-05-14 11:56:00</td>\n",
              "      <td>Transfer</td>\n",
              "      <td>Partner</td>\n",
              "      <td>Cat</td>\n",
              "      <td>Intact Male</td>\n",
              "      <td>1 month</td>\n",
              "      <td>Domestic Shorthair Mix</td>\n",
              "      <td>Brown Tabby/White</td>\n",
              "      <td>1.0</td>\n",
              "      <td>month</td>\n",
              "      <td>30</td>\n",
              "      <td>30.0</td>\n",
              "    </tr>\n",
              "    <tr>\n",
              "      <th>26725</th>\n",
              "      <td>2016-01-20 18:59:00</td>\n",
              "      <td>Transfer</td>\n",
              "      <td>SCRP</td>\n",
              "      <td>Cat</td>\n",
              "      <td>Spayed Female</td>\n",
              "      <td>3 months</td>\n",
              "      <td>Domestic Shorthair Mix</td>\n",
              "      <td>Brown Tabby</td>\n",
              "      <td>3.0</td>\n",
              "      <td>months</td>\n",
              "      <td>30</td>\n",
              "      <td>90.0</td>\n",
              "    </tr>\n",
              "    <tr>\n",
              "      <th>26726</th>\n",
              "      <td>2015-03-09 13:33:00</td>\n",
              "      <td>Adoption</td>\n",
              "      <td>NaN</td>\n",
              "      <td>Dog</td>\n",
              "      <td>Neutered Male</td>\n",
              "      <td>4 years</td>\n",
              "      <td>Old English Bulldog Mix</td>\n",
              "      <td>White/Tan</td>\n",
              "      <td>4.0</td>\n",
              "      <td>years</td>\n",
              "      <td>365</td>\n",
              "      <td>1460.0</td>\n",
              "    </tr>\n",
              "    <tr>\n",
              "      <th>26727</th>\n",
              "      <td>2014-04-27 12:22:00</td>\n",
              "      <td>Transfer</td>\n",
              "      <td>Partner</td>\n",
              "      <td>Cat</td>\n",
              "      <td>Intact Male</td>\n",
              "      <td>4 weeks</td>\n",
              "      <td>Domestic Shorthair Mix</td>\n",
              "      <td>Black</td>\n",
              "      <td>4.0</td>\n",
              "      <td>weeks</td>\n",
              "      <td>7</td>\n",
              "      <td>28.0</td>\n",
              "    </tr>\n",
              "    <tr>\n",
              "      <th>26728</th>\n",
              "      <td>2015-07-02 09:00:00</td>\n",
              "      <td>Transfer</td>\n",
              "      <td>SCRP</td>\n",
              "      <td>Cat</td>\n",
              "      <td>Intact Male</td>\n",
              "      <td>1 year</td>\n",
              "      <td>Domestic Shorthair Mix</td>\n",
              "      <td>Brown Tabby/White</td>\n",
              "      <td>1.0</td>\n",
              "      <td>year</td>\n",
              "      <td>365</td>\n",
              "      <td>365.0</td>\n",
              "    </tr>\n",
              "  </tbody>\n",
              "</table>\n",
              "<p>26729 rows × 12 columns</p>\n",
              "</div>"
            ],
            "text/plain": [
              "                  DateTime      OutcomeType  ... Conversion TotalDias\n",
              "0      2014-02-12 18:22:00  Return_to_owner  ...        365     365.0\n",
              "1      2013-10-13 12:44:00       Euthanasia  ...        365     365.0\n",
              "2      2015-01-31 12:28:00         Adoption  ...        365     730.0\n",
              "3      2014-07-11 19:09:00         Transfer  ...          7      21.0\n",
              "4      2013-11-15 12:52:00         Transfer  ...        365     730.0\n",
              "...                    ...              ...  ...        ...       ...\n",
              "26724  2015-05-14 11:56:00         Transfer  ...         30      30.0\n",
              "26725  2016-01-20 18:59:00         Transfer  ...         30      90.0\n",
              "26726  2015-03-09 13:33:00         Adoption  ...        365    1460.0\n",
              "26727  2014-04-27 12:22:00         Transfer  ...          7      28.0\n",
              "26728  2015-07-02 09:00:00         Transfer  ...        365     365.0\n",
              "\n",
              "[26729 rows x 12 columns]"
            ]
          },
          "metadata": {
            "tags": []
          },
          "execution_count": 15
        }
      ]
    },
    {
      "cell_type": "code",
      "metadata": {
        "colab": {
          "base_uri": "https://localhost:8080/"
        },
        "id": "wDXMo76zx8gD",
        "outputId": "98f6f210-b719-45af-d2d0-15221c272c86"
      },
      "source": [
        "# Média de dias dos cachorrinhos adotados de uma maneira correta agora\n",
        "\n",
        "df[(df['OutcomeType']=='Adoption') & (df['AnimalType']=='Dog')]['TotalDias'].mean() # aproximadamente 2 anos"
      ],
      "execution_count": null,
      "outputs": [
        {
          "output_type": "execute_result",
          "data": {
            "text/plain": [
              "715.7895951977836"
            ]
          },
          "metadata": {
            "tags": []
          },
          "execution_count": 16
        }
      ]
    },
    {
      "cell_type": "code",
      "metadata": {
        "colab": {
          "base_uri": "https://localhost:8080/"
        },
        "id": "YWSEtjELzCuQ",
        "outputId": "529bfe5b-87b9-4f0d-deb9-ad76096b73bb"
      },
      "source": [
        "# Estatisticas básicas dos dias\n",
        "df['TotalDias'].describe()"
      ],
      "execution_count": null,
      "outputs": [
        {
          "output_type": "execute_result",
          "data": {
            "text/plain": [
              "count    26711.000000\n",
              "mean       794.130770\n",
              "std       1082.830232\n",
              "min          0.000000\n",
              "25%         60.000000\n",
              "50%        365.000000\n",
              "75%       1095.000000\n",
              "max       7300.000000\n",
              "Name: TotalDias, dtype: float64"
            ]
          },
          "metadata": {
            "tags": []
          },
          "execution_count": 17
        }
      ]
    },
    {
      "cell_type": "code",
      "metadata": {
        "colab": {
          "base_uri": "https://localhost:8080/",
          "height": 394
        },
        "id": "5B55cfg-zUpg",
        "outputId": "0071de60-97be-4e12-fcbf-0d03a4ec5b38"
      },
      "source": [
        "# Separar os dog's macho e femea\n",
        "df_s = df['SexuponOutcome'].str.split(expand = True)\n",
        "df_s  = df_s.rename(columns={0: \"Castrado\", 1: \"Sexo\"})\n",
        "df = pd.concat([df_s,df], axis=1)\n",
        "df.head()"
      ],
      "execution_count": null,
      "outputs": [
        {
          "output_type": "execute_result",
          "data": {
            "text/html": [
              "<div>\n",
              "<style scoped>\n",
              "    .dataframe tbody tr th:only-of-type {\n",
              "        vertical-align: middle;\n",
              "    }\n",
              "\n",
              "    .dataframe tbody tr th {\n",
              "        vertical-align: top;\n",
              "    }\n",
              "\n",
              "    .dataframe thead th {\n",
              "        text-align: right;\n",
              "    }\n",
              "</style>\n",
              "<table border=\"1\" class=\"dataframe\">\n",
              "  <thead>\n",
              "    <tr style=\"text-align: right;\">\n",
              "      <th></th>\n",
              "      <th>Castrado</th>\n",
              "      <th>Sexo</th>\n",
              "      <th>DateTime</th>\n",
              "      <th>OutcomeType</th>\n",
              "      <th>OutcomeSubtype</th>\n",
              "      <th>AnimalType</th>\n",
              "      <th>SexuponOutcome</th>\n",
              "      <th>AgeuponOutcome</th>\n",
              "      <th>Breed</th>\n",
              "      <th>Color</th>\n",
              "      <th>Number</th>\n",
              "      <th>Date_Status</th>\n",
              "      <th>Conversion</th>\n",
              "      <th>TotalDias</th>\n",
              "    </tr>\n",
              "  </thead>\n",
              "  <tbody>\n",
              "    <tr>\n",
              "      <th>0</th>\n",
              "      <td>Neutered</td>\n",
              "      <td>Male</td>\n",
              "      <td>2014-02-12 18:22:00</td>\n",
              "      <td>Return_to_owner</td>\n",
              "      <td>NaN</td>\n",
              "      <td>Dog</td>\n",
              "      <td>Neutered Male</td>\n",
              "      <td>1 year</td>\n",
              "      <td>Shetland Sheepdog Mix</td>\n",
              "      <td>Brown/White</td>\n",
              "      <td>1.0</td>\n",
              "      <td>year</td>\n",
              "      <td>365</td>\n",
              "      <td>365.0</td>\n",
              "    </tr>\n",
              "    <tr>\n",
              "      <th>1</th>\n",
              "      <td>Spayed</td>\n",
              "      <td>Female</td>\n",
              "      <td>2013-10-13 12:44:00</td>\n",
              "      <td>Euthanasia</td>\n",
              "      <td>Suffering</td>\n",
              "      <td>Cat</td>\n",
              "      <td>Spayed Female</td>\n",
              "      <td>1 year</td>\n",
              "      <td>Domestic Shorthair Mix</td>\n",
              "      <td>Cream Tabby</td>\n",
              "      <td>1.0</td>\n",
              "      <td>year</td>\n",
              "      <td>365</td>\n",
              "      <td>365.0</td>\n",
              "    </tr>\n",
              "    <tr>\n",
              "      <th>2</th>\n",
              "      <td>Neutered</td>\n",
              "      <td>Male</td>\n",
              "      <td>2015-01-31 12:28:00</td>\n",
              "      <td>Adoption</td>\n",
              "      <td>Foster</td>\n",
              "      <td>Dog</td>\n",
              "      <td>Neutered Male</td>\n",
              "      <td>2 years</td>\n",
              "      <td>Pit Bull Mix</td>\n",
              "      <td>Blue/White</td>\n",
              "      <td>2.0</td>\n",
              "      <td>years</td>\n",
              "      <td>365</td>\n",
              "      <td>730.0</td>\n",
              "    </tr>\n",
              "    <tr>\n",
              "      <th>3</th>\n",
              "      <td>Intact</td>\n",
              "      <td>Male</td>\n",
              "      <td>2014-07-11 19:09:00</td>\n",
              "      <td>Transfer</td>\n",
              "      <td>Partner</td>\n",
              "      <td>Cat</td>\n",
              "      <td>Intact Male</td>\n",
              "      <td>3 weeks</td>\n",
              "      <td>Domestic Shorthair Mix</td>\n",
              "      <td>Blue Cream</td>\n",
              "      <td>3.0</td>\n",
              "      <td>weeks</td>\n",
              "      <td>7</td>\n",
              "      <td>21.0</td>\n",
              "    </tr>\n",
              "    <tr>\n",
              "      <th>4</th>\n",
              "      <td>Neutered</td>\n",
              "      <td>Male</td>\n",
              "      <td>2013-11-15 12:52:00</td>\n",
              "      <td>Transfer</td>\n",
              "      <td>Partner</td>\n",
              "      <td>Dog</td>\n",
              "      <td>Neutered Male</td>\n",
              "      <td>2 years</td>\n",
              "      <td>Lhasa Apso/Miniature Poodle</td>\n",
              "      <td>Tan</td>\n",
              "      <td>2.0</td>\n",
              "      <td>years</td>\n",
              "      <td>365</td>\n",
              "      <td>730.0</td>\n",
              "    </tr>\n",
              "  </tbody>\n",
              "</table>\n",
              "</div>"
            ],
            "text/plain": [
              "   Castrado    Sexo             DateTime  ... Date_Status Conversion TotalDias\n",
              "0  Neutered    Male  2014-02-12 18:22:00  ...        year        365     365.0\n",
              "1    Spayed  Female  2013-10-13 12:44:00  ...        year        365     365.0\n",
              "2  Neutered    Male  2015-01-31 12:28:00  ...       years        365     730.0\n",
              "3    Intact    Male  2014-07-11 19:09:00  ...       weeks          7      21.0\n",
              "4  Neutered    Male  2013-11-15 12:52:00  ...       years        365     730.0\n",
              "\n",
              "[5 rows x 14 columns]"
            ]
          },
          "metadata": {
            "tags": []
          },
          "execution_count": 18
        }
      ]
    },
    {
      "cell_type": "code",
      "metadata": {
        "id": "lbXTXe0u0NDx"
      },
      "source": [
        "def sexo(cols):\n",
        "  Locais = cols[1]\n",
        "  if Locais == 'Male':\n",
        "    return 1\n",
        "  else:\n",
        "    return 0"
      ],
      "execution_count": null,
      "outputs": []
    },
    {
      "cell_type": "code",
      "metadata": {
        "colab": {
          "base_uri": "https://localhost:8080/",
          "height": 394
        },
        "id": "poSEkpjb3P4P",
        "outputId": "c764216e-8569-44b5-c1f9-b6fa7fd87c3a"
      },
      "source": [
        "df['Sex'] = df.apply(sexo, axis=1)\n",
        "df.head()"
      ],
      "execution_count": null,
      "outputs": [
        {
          "output_type": "execute_result",
          "data": {
            "text/html": [
              "<div>\n",
              "<style scoped>\n",
              "    .dataframe tbody tr th:only-of-type {\n",
              "        vertical-align: middle;\n",
              "    }\n",
              "\n",
              "    .dataframe tbody tr th {\n",
              "        vertical-align: top;\n",
              "    }\n",
              "\n",
              "    .dataframe thead th {\n",
              "        text-align: right;\n",
              "    }\n",
              "</style>\n",
              "<table border=\"1\" class=\"dataframe\">\n",
              "  <thead>\n",
              "    <tr style=\"text-align: right;\">\n",
              "      <th></th>\n",
              "      <th>Castrado</th>\n",
              "      <th>Sexo</th>\n",
              "      <th>DateTime</th>\n",
              "      <th>OutcomeType</th>\n",
              "      <th>OutcomeSubtype</th>\n",
              "      <th>AnimalType</th>\n",
              "      <th>SexuponOutcome</th>\n",
              "      <th>AgeuponOutcome</th>\n",
              "      <th>Breed</th>\n",
              "      <th>Color</th>\n",
              "      <th>Number</th>\n",
              "      <th>Date_Status</th>\n",
              "      <th>Conversion</th>\n",
              "      <th>TotalDias</th>\n",
              "      <th>Sex</th>\n",
              "    </tr>\n",
              "  </thead>\n",
              "  <tbody>\n",
              "    <tr>\n",
              "      <th>0</th>\n",
              "      <td>Neutered</td>\n",
              "      <td>Male</td>\n",
              "      <td>2014-02-12 18:22:00</td>\n",
              "      <td>Return_to_owner</td>\n",
              "      <td>NaN</td>\n",
              "      <td>Dog</td>\n",
              "      <td>Neutered Male</td>\n",
              "      <td>1 year</td>\n",
              "      <td>Shetland Sheepdog Mix</td>\n",
              "      <td>Brown/White</td>\n",
              "      <td>1.0</td>\n",
              "      <td>year</td>\n",
              "      <td>365</td>\n",
              "      <td>365.0</td>\n",
              "      <td>1</td>\n",
              "    </tr>\n",
              "    <tr>\n",
              "      <th>1</th>\n",
              "      <td>Spayed</td>\n",
              "      <td>Female</td>\n",
              "      <td>2013-10-13 12:44:00</td>\n",
              "      <td>Euthanasia</td>\n",
              "      <td>Suffering</td>\n",
              "      <td>Cat</td>\n",
              "      <td>Spayed Female</td>\n",
              "      <td>1 year</td>\n",
              "      <td>Domestic Shorthair Mix</td>\n",
              "      <td>Cream Tabby</td>\n",
              "      <td>1.0</td>\n",
              "      <td>year</td>\n",
              "      <td>365</td>\n",
              "      <td>365.0</td>\n",
              "      <td>0</td>\n",
              "    </tr>\n",
              "    <tr>\n",
              "      <th>2</th>\n",
              "      <td>Neutered</td>\n",
              "      <td>Male</td>\n",
              "      <td>2015-01-31 12:28:00</td>\n",
              "      <td>Adoption</td>\n",
              "      <td>Foster</td>\n",
              "      <td>Dog</td>\n",
              "      <td>Neutered Male</td>\n",
              "      <td>2 years</td>\n",
              "      <td>Pit Bull Mix</td>\n",
              "      <td>Blue/White</td>\n",
              "      <td>2.0</td>\n",
              "      <td>years</td>\n",
              "      <td>365</td>\n",
              "      <td>730.0</td>\n",
              "      <td>1</td>\n",
              "    </tr>\n",
              "    <tr>\n",
              "      <th>3</th>\n",
              "      <td>Intact</td>\n",
              "      <td>Male</td>\n",
              "      <td>2014-07-11 19:09:00</td>\n",
              "      <td>Transfer</td>\n",
              "      <td>Partner</td>\n",
              "      <td>Cat</td>\n",
              "      <td>Intact Male</td>\n",
              "      <td>3 weeks</td>\n",
              "      <td>Domestic Shorthair Mix</td>\n",
              "      <td>Blue Cream</td>\n",
              "      <td>3.0</td>\n",
              "      <td>weeks</td>\n",
              "      <td>7</td>\n",
              "      <td>21.0</td>\n",
              "      <td>1</td>\n",
              "    </tr>\n",
              "    <tr>\n",
              "      <th>4</th>\n",
              "      <td>Neutered</td>\n",
              "      <td>Male</td>\n",
              "      <td>2013-11-15 12:52:00</td>\n",
              "      <td>Transfer</td>\n",
              "      <td>Partner</td>\n",
              "      <td>Dog</td>\n",
              "      <td>Neutered Male</td>\n",
              "      <td>2 years</td>\n",
              "      <td>Lhasa Apso/Miniature Poodle</td>\n",
              "      <td>Tan</td>\n",
              "      <td>2.0</td>\n",
              "      <td>years</td>\n",
              "      <td>365</td>\n",
              "      <td>730.0</td>\n",
              "      <td>1</td>\n",
              "    </tr>\n",
              "  </tbody>\n",
              "</table>\n",
              "</div>"
            ],
            "text/plain": [
              "   Castrado    Sexo             DateTime  ... Conversion TotalDias Sex\n",
              "0  Neutered    Male  2014-02-12 18:22:00  ...        365     365.0   1\n",
              "1    Spayed  Female  2013-10-13 12:44:00  ...        365     365.0   0\n",
              "2  Neutered    Male  2015-01-31 12:28:00  ...        365     730.0   1\n",
              "3    Intact    Male  2014-07-11 19:09:00  ...          7      21.0   1\n",
              "4  Neutered    Male  2013-11-15 12:52:00  ...        365     730.0   1\n",
              "\n",
              "[5 rows x 15 columns]"
            ]
          },
          "metadata": {
            "tags": []
          },
          "execution_count": 20
        }
      ]
    },
    {
      "cell_type": "code",
      "metadata": {
        "colab": {
          "base_uri": "https://localhost:8080/"
        },
        "id": "xf7xA5ar3V-I",
        "outputId": "dd671d5f-fbbd-4a9e-803e-5c27e0bc428b"
      },
      "source": [
        "# Os cachorros adotados são mais homens ou femeas?\n",
        "d_fm = df[(df['OutcomeType']=='Adoption') & (df['AnimalType']=='Dog')].groupby(by=['Sexo'])['Sex'].count()\n",
        "d_fm\n",
        "# São iguais não tem preferencia por sexo"
      ],
      "execution_count": null,
      "outputs": [
        {
          "output_type": "execute_result",
          "data": {
            "text/plain": [
              "Sexo\n",
              "Female    3215\n",
              "Male      3282\n",
              "Name: Sex, dtype: int64"
            ]
          },
          "metadata": {
            "tags": []
          },
          "execution_count": 21
        }
      ]
    },
    {
      "cell_type": "code",
      "metadata": {
        "colab": {
          "base_uri": "https://localhost:8080/"
        },
        "id": "8PlgG0wd54S9",
        "outputId": "e8753b7b-cee3-4a9b-e6ee-e0d6487d3c3b"
      },
      "source": [
        "df[(df['OutcomeType']=='Adoption') & (df['AnimalType']=='Dog')]['Color'].value_counts()"
      ],
      "execution_count": null,
      "outputs": [
        {
          "output_type": "execute_result",
          "data": {
            "text/plain": [
              "Black/White                    793\n",
              "Brown/White                    375\n",
              "Tan/White                      351\n",
              "Tricolor                       333\n",
              "Black                          329\n",
              "                              ... \n",
              "Red Tick/Tan                     1\n",
              "Brown Brindle/Brown Brindle      1\n",
              "Tan/Tan                          1\n",
              "Red Tick/Red                     1\n",
              "Sable/Buff                       1\n",
              "Name: Color, Length: 192, dtype: int64"
            ]
          },
          "metadata": {
            "tags": []
          },
          "execution_count": 22
        }
      ]
    },
    {
      "cell_type": "code",
      "metadata": {
        "id": "4Ih7DBRW6gdT",
        "colab": {
          "base_uri": "https://localhost:8080/",
          "height": 394
        },
        "outputId": "cb93e2eb-7ded-4f95-dd3f-32c6aad9fb77"
      },
      "source": [
        "# Splitar as cores dos animaizinhos\n",
        "dff = df['Color'].str.split(pat='/',expand = True)\n",
        "dff  = dff.rename(columns={0: \"PrincipalColor\", 1: \"SecondColor\"})\n",
        "df = pd.concat([dff,df], axis=1)\n",
        "df.head()"
      ],
      "execution_count": null,
      "outputs": [
        {
          "output_type": "execute_result",
          "data": {
            "text/html": [
              "<div>\n",
              "<style scoped>\n",
              "    .dataframe tbody tr th:only-of-type {\n",
              "        vertical-align: middle;\n",
              "    }\n",
              "\n",
              "    .dataframe tbody tr th {\n",
              "        vertical-align: top;\n",
              "    }\n",
              "\n",
              "    .dataframe thead th {\n",
              "        text-align: right;\n",
              "    }\n",
              "</style>\n",
              "<table border=\"1\" class=\"dataframe\">\n",
              "  <thead>\n",
              "    <tr style=\"text-align: right;\">\n",
              "      <th></th>\n",
              "      <th>PrincipalColor</th>\n",
              "      <th>SecondColor</th>\n",
              "      <th>Castrado</th>\n",
              "      <th>Sexo</th>\n",
              "      <th>DateTime</th>\n",
              "      <th>OutcomeType</th>\n",
              "      <th>OutcomeSubtype</th>\n",
              "      <th>AnimalType</th>\n",
              "      <th>SexuponOutcome</th>\n",
              "      <th>AgeuponOutcome</th>\n",
              "      <th>Breed</th>\n",
              "      <th>Color</th>\n",
              "      <th>Number</th>\n",
              "      <th>Date_Status</th>\n",
              "      <th>Conversion</th>\n",
              "      <th>TotalDias</th>\n",
              "      <th>Sex</th>\n",
              "    </tr>\n",
              "  </thead>\n",
              "  <tbody>\n",
              "    <tr>\n",
              "      <th>0</th>\n",
              "      <td>Brown</td>\n",
              "      <td>White</td>\n",
              "      <td>Neutered</td>\n",
              "      <td>Male</td>\n",
              "      <td>2014-02-12 18:22:00</td>\n",
              "      <td>Return_to_owner</td>\n",
              "      <td>NaN</td>\n",
              "      <td>Dog</td>\n",
              "      <td>Neutered Male</td>\n",
              "      <td>1 year</td>\n",
              "      <td>Shetland Sheepdog Mix</td>\n",
              "      <td>Brown/White</td>\n",
              "      <td>1.0</td>\n",
              "      <td>year</td>\n",
              "      <td>365</td>\n",
              "      <td>365.0</td>\n",
              "      <td>1</td>\n",
              "    </tr>\n",
              "    <tr>\n",
              "      <th>1</th>\n",
              "      <td>Cream Tabby</td>\n",
              "      <td>None</td>\n",
              "      <td>Spayed</td>\n",
              "      <td>Female</td>\n",
              "      <td>2013-10-13 12:44:00</td>\n",
              "      <td>Euthanasia</td>\n",
              "      <td>Suffering</td>\n",
              "      <td>Cat</td>\n",
              "      <td>Spayed Female</td>\n",
              "      <td>1 year</td>\n",
              "      <td>Domestic Shorthair Mix</td>\n",
              "      <td>Cream Tabby</td>\n",
              "      <td>1.0</td>\n",
              "      <td>year</td>\n",
              "      <td>365</td>\n",
              "      <td>365.0</td>\n",
              "      <td>0</td>\n",
              "    </tr>\n",
              "    <tr>\n",
              "      <th>2</th>\n",
              "      <td>Blue</td>\n",
              "      <td>White</td>\n",
              "      <td>Neutered</td>\n",
              "      <td>Male</td>\n",
              "      <td>2015-01-31 12:28:00</td>\n",
              "      <td>Adoption</td>\n",
              "      <td>Foster</td>\n",
              "      <td>Dog</td>\n",
              "      <td>Neutered Male</td>\n",
              "      <td>2 years</td>\n",
              "      <td>Pit Bull Mix</td>\n",
              "      <td>Blue/White</td>\n",
              "      <td>2.0</td>\n",
              "      <td>years</td>\n",
              "      <td>365</td>\n",
              "      <td>730.0</td>\n",
              "      <td>1</td>\n",
              "    </tr>\n",
              "    <tr>\n",
              "      <th>3</th>\n",
              "      <td>Blue Cream</td>\n",
              "      <td>None</td>\n",
              "      <td>Intact</td>\n",
              "      <td>Male</td>\n",
              "      <td>2014-07-11 19:09:00</td>\n",
              "      <td>Transfer</td>\n",
              "      <td>Partner</td>\n",
              "      <td>Cat</td>\n",
              "      <td>Intact Male</td>\n",
              "      <td>3 weeks</td>\n",
              "      <td>Domestic Shorthair Mix</td>\n",
              "      <td>Blue Cream</td>\n",
              "      <td>3.0</td>\n",
              "      <td>weeks</td>\n",
              "      <td>7</td>\n",
              "      <td>21.0</td>\n",
              "      <td>1</td>\n",
              "    </tr>\n",
              "    <tr>\n",
              "      <th>4</th>\n",
              "      <td>Tan</td>\n",
              "      <td>None</td>\n",
              "      <td>Neutered</td>\n",
              "      <td>Male</td>\n",
              "      <td>2013-11-15 12:52:00</td>\n",
              "      <td>Transfer</td>\n",
              "      <td>Partner</td>\n",
              "      <td>Dog</td>\n",
              "      <td>Neutered Male</td>\n",
              "      <td>2 years</td>\n",
              "      <td>Lhasa Apso/Miniature Poodle</td>\n",
              "      <td>Tan</td>\n",
              "      <td>2.0</td>\n",
              "      <td>years</td>\n",
              "      <td>365</td>\n",
              "      <td>730.0</td>\n",
              "      <td>1</td>\n",
              "    </tr>\n",
              "  </tbody>\n",
              "</table>\n",
              "</div>"
            ],
            "text/plain": [
              "  PrincipalColor SecondColor  Castrado  ... Conversion TotalDias Sex\n",
              "0          Brown       White  Neutered  ...        365     365.0   1\n",
              "1    Cream Tabby        None    Spayed  ...        365     365.0   0\n",
              "2           Blue       White  Neutered  ...        365     730.0   1\n",
              "3     Blue Cream        None    Intact  ...          7      21.0   1\n",
              "4            Tan        None  Neutered  ...        365     730.0   1\n",
              "\n",
              "[5 rows x 17 columns]"
            ]
          },
          "metadata": {
            "tags": []
          },
          "execution_count": 23
        }
      ]
    },
    {
      "cell_type": "code",
      "metadata": {
        "colab": {
          "base_uri": "https://localhost:8080/"
        },
        "id": "yxgzvLzUsHOH",
        "outputId": "5be4a0b7-c3e8-415f-c238-d71f70293e95"
      },
      "source": [
        "df[(df['OutcomeType']=='Adoption') & (df['AnimalType']=='Dog')]['PrincipalColor'].value_counts(normalize=True)"
      ],
      "execution_count": null,
      "outputs": [
        {
          "output_type": "execute_result",
          "data": {
            "text/plain": [
              "Black             0.257811\n",
              "White             0.169309\n",
              "Brown             0.124211\n",
              "Tan               0.110974\n",
              "Tricolor          0.054487\n",
              "Red               0.046945\n",
              "Brown Brindle     0.042481\n",
              "Blue              0.029860\n",
              "Chocolate         0.027243\n",
              "Sable             0.025704\n",
              "Buff              0.018470\n",
              "Blue Merle        0.012467\n",
              "Yellow            0.011852\n",
              "Cream             0.011852\n",
              "Fawn              0.010620\n",
              "Gray              0.010620\n",
              "Brown Merle       0.006157\n",
              "Black Brindle     0.005849\n",
              "Blue Tick         0.003694\n",
              "Red Tick          0.003540\n",
              "Red Merle         0.003232\n",
              "Silver            0.003078\n",
              "Gold              0.003078\n",
              "Yellow Brindle    0.002463\n",
              "Apricot           0.001385\n",
              "Liver             0.000770\n",
              "Blue Tiger        0.000770\n",
              "Black Smoke       0.000616\n",
              "Ruddy             0.000154\n",
              "Black Tiger       0.000154\n",
              "Liver Tick        0.000154\n",
              "Name: PrincipalColor, dtype: float64"
            ]
          },
          "metadata": {
            "tags": []
          },
          "execution_count": 24
        }
      ]
    },
    {
      "cell_type": "code",
      "metadata": {
        "id": "a3jywXbWuR-e"
      },
      "source": [
        "# Classificação de adoção ou não\n",
        "def adopt(cols):\n",
        "  Locais = cols[5]\n",
        "  if Locais == 'Adoption':\n",
        "    return 1\n",
        "  else:\n",
        "    return 0"
      ],
      "execution_count": null,
      "outputs": []
    },
    {
      "cell_type": "code",
      "metadata": {
        "colab": {
          "base_uri": "https://localhost:8080/",
          "height": 394
        },
        "id": "c0k74hRzvzmW",
        "outputId": "710885aa-ca5c-4f70-b44b-0ad6dbf5cda5"
      },
      "source": [
        "df['Classifier'] = df.apply(adopt, axis=1)\n",
        "df.head()"
      ],
      "execution_count": null,
      "outputs": [
        {
          "output_type": "execute_result",
          "data": {
            "text/html": [
              "<div>\n",
              "<style scoped>\n",
              "    .dataframe tbody tr th:only-of-type {\n",
              "        vertical-align: middle;\n",
              "    }\n",
              "\n",
              "    .dataframe tbody tr th {\n",
              "        vertical-align: top;\n",
              "    }\n",
              "\n",
              "    .dataframe thead th {\n",
              "        text-align: right;\n",
              "    }\n",
              "</style>\n",
              "<table border=\"1\" class=\"dataframe\">\n",
              "  <thead>\n",
              "    <tr style=\"text-align: right;\">\n",
              "      <th></th>\n",
              "      <th>PrincipalColor</th>\n",
              "      <th>SecondColor</th>\n",
              "      <th>Castrado</th>\n",
              "      <th>Sexo</th>\n",
              "      <th>DateTime</th>\n",
              "      <th>OutcomeType</th>\n",
              "      <th>OutcomeSubtype</th>\n",
              "      <th>AnimalType</th>\n",
              "      <th>SexuponOutcome</th>\n",
              "      <th>AgeuponOutcome</th>\n",
              "      <th>Breed</th>\n",
              "      <th>Color</th>\n",
              "      <th>Number</th>\n",
              "      <th>Date_Status</th>\n",
              "      <th>Conversion</th>\n",
              "      <th>TotalDias</th>\n",
              "      <th>Sex</th>\n",
              "      <th>Classifier</th>\n",
              "    </tr>\n",
              "  </thead>\n",
              "  <tbody>\n",
              "    <tr>\n",
              "      <th>0</th>\n",
              "      <td>Brown</td>\n",
              "      <td>White</td>\n",
              "      <td>Neutered</td>\n",
              "      <td>Male</td>\n",
              "      <td>2014-02-12 18:22:00</td>\n",
              "      <td>Return_to_owner</td>\n",
              "      <td>NaN</td>\n",
              "      <td>Dog</td>\n",
              "      <td>Neutered Male</td>\n",
              "      <td>1 year</td>\n",
              "      <td>Shetland Sheepdog Mix</td>\n",
              "      <td>Brown/White</td>\n",
              "      <td>1.0</td>\n",
              "      <td>year</td>\n",
              "      <td>365</td>\n",
              "      <td>365.0</td>\n",
              "      <td>1</td>\n",
              "      <td>0</td>\n",
              "    </tr>\n",
              "    <tr>\n",
              "      <th>1</th>\n",
              "      <td>Cream Tabby</td>\n",
              "      <td>None</td>\n",
              "      <td>Spayed</td>\n",
              "      <td>Female</td>\n",
              "      <td>2013-10-13 12:44:00</td>\n",
              "      <td>Euthanasia</td>\n",
              "      <td>Suffering</td>\n",
              "      <td>Cat</td>\n",
              "      <td>Spayed Female</td>\n",
              "      <td>1 year</td>\n",
              "      <td>Domestic Shorthair Mix</td>\n",
              "      <td>Cream Tabby</td>\n",
              "      <td>1.0</td>\n",
              "      <td>year</td>\n",
              "      <td>365</td>\n",
              "      <td>365.0</td>\n",
              "      <td>0</td>\n",
              "      <td>0</td>\n",
              "    </tr>\n",
              "    <tr>\n",
              "      <th>2</th>\n",
              "      <td>Blue</td>\n",
              "      <td>White</td>\n",
              "      <td>Neutered</td>\n",
              "      <td>Male</td>\n",
              "      <td>2015-01-31 12:28:00</td>\n",
              "      <td>Adoption</td>\n",
              "      <td>Foster</td>\n",
              "      <td>Dog</td>\n",
              "      <td>Neutered Male</td>\n",
              "      <td>2 years</td>\n",
              "      <td>Pit Bull Mix</td>\n",
              "      <td>Blue/White</td>\n",
              "      <td>2.0</td>\n",
              "      <td>years</td>\n",
              "      <td>365</td>\n",
              "      <td>730.0</td>\n",
              "      <td>1</td>\n",
              "      <td>1</td>\n",
              "    </tr>\n",
              "    <tr>\n",
              "      <th>3</th>\n",
              "      <td>Blue Cream</td>\n",
              "      <td>None</td>\n",
              "      <td>Intact</td>\n",
              "      <td>Male</td>\n",
              "      <td>2014-07-11 19:09:00</td>\n",
              "      <td>Transfer</td>\n",
              "      <td>Partner</td>\n",
              "      <td>Cat</td>\n",
              "      <td>Intact Male</td>\n",
              "      <td>3 weeks</td>\n",
              "      <td>Domestic Shorthair Mix</td>\n",
              "      <td>Blue Cream</td>\n",
              "      <td>3.0</td>\n",
              "      <td>weeks</td>\n",
              "      <td>7</td>\n",
              "      <td>21.0</td>\n",
              "      <td>1</td>\n",
              "      <td>0</td>\n",
              "    </tr>\n",
              "    <tr>\n",
              "      <th>4</th>\n",
              "      <td>Tan</td>\n",
              "      <td>None</td>\n",
              "      <td>Neutered</td>\n",
              "      <td>Male</td>\n",
              "      <td>2013-11-15 12:52:00</td>\n",
              "      <td>Transfer</td>\n",
              "      <td>Partner</td>\n",
              "      <td>Dog</td>\n",
              "      <td>Neutered Male</td>\n",
              "      <td>2 years</td>\n",
              "      <td>Lhasa Apso/Miniature Poodle</td>\n",
              "      <td>Tan</td>\n",
              "      <td>2.0</td>\n",
              "      <td>years</td>\n",
              "      <td>365</td>\n",
              "      <td>730.0</td>\n",
              "      <td>1</td>\n",
              "      <td>0</td>\n",
              "    </tr>\n",
              "  </tbody>\n",
              "</table>\n",
              "</div>"
            ],
            "text/plain": [
              "  PrincipalColor SecondColor  Castrado  ... TotalDias Sex Classifier\n",
              "0          Brown       White  Neutered  ...     365.0   1          0\n",
              "1    Cream Tabby        None    Spayed  ...     365.0   0          0\n",
              "2           Blue       White  Neutered  ...     730.0   1          1\n",
              "3     Blue Cream        None    Intact  ...      21.0   1          0\n",
              "4            Tan        None  Neutered  ...     730.0   1          0\n",
              "\n",
              "[5 rows x 18 columns]"
            ]
          },
          "metadata": {
            "tags": []
          },
          "execution_count": 26
        }
      ]
    },
    {
      "cell_type": "code",
      "metadata": {
        "colab": {
          "base_uri": "https://localhost:8080/"
        },
        "id": "3wz9lOBDfSRA",
        "outputId": "ed091b18-469a-49c8-df5b-3c0ebab960fe"
      },
      "source": [
        "# Preparar a base mãe para modelar\n",
        "train = df[['Classifier','PrincipalColor','Castrado','Sex','TotalDias','Breed']]\n",
        "train = train.dropna()\n",
        "train.head()\n",
        "train.info()"
      ],
      "execution_count": null,
      "outputs": [
        {
          "output_type": "stream",
          "text": [
            "<class 'pandas.core.frame.DataFrame'>\n",
            "Int64Index: 26710 entries, 0 to 26728\n",
            "Data columns (total 6 columns):\n",
            " #   Column          Non-Null Count  Dtype  \n",
            "---  ------          --------------  -----  \n",
            " 0   Classifier      26710 non-null  int64  \n",
            " 1   PrincipalColor  26710 non-null  object \n",
            " 2   Castrado        26710 non-null  object \n",
            " 3   Sex             26710 non-null  int64  \n",
            " 4   TotalDias       26710 non-null  float64\n",
            " 5   Breed           26710 non-null  object \n",
            "dtypes: float64(1), int64(2), object(3)\n",
            "memory usage: 1.4+ MB\n"
          ],
          "name": "stdout"
        }
      ]
    },
    {
      "cell_type": "code",
      "metadata": {
        "colab": {
          "base_uri": "https://localhost:8080/",
          "height": 204
        },
        "id": "7W0uT9tsflOK",
        "outputId": "488ca887-a1e4-4eb0-b659-3cdc7a6fbda1"
      },
      "source": [
        "# Converter a base mãe de treino para fator\n",
        "train.head(5)"
      ],
      "execution_count": null,
      "outputs": [
        {
          "output_type": "execute_result",
          "data": {
            "text/html": [
              "<div>\n",
              "<style scoped>\n",
              "    .dataframe tbody tr th:only-of-type {\n",
              "        vertical-align: middle;\n",
              "    }\n",
              "\n",
              "    .dataframe tbody tr th {\n",
              "        vertical-align: top;\n",
              "    }\n",
              "\n",
              "    .dataframe thead th {\n",
              "        text-align: right;\n",
              "    }\n",
              "</style>\n",
              "<table border=\"1\" class=\"dataframe\">\n",
              "  <thead>\n",
              "    <tr style=\"text-align: right;\">\n",
              "      <th></th>\n",
              "      <th>Classifier</th>\n",
              "      <th>PrincipalColor</th>\n",
              "      <th>Castrado</th>\n",
              "      <th>Sex</th>\n",
              "      <th>TotalDias</th>\n",
              "      <th>Breed</th>\n",
              "    </tr>\n",
              "  </thead>\n",
              "  <tbody>\n",
              "    <tr>\n",
              "      <th>0</th>\n",
              "      <td>0</td>\n",
              "      <td>Brown</td>\n",
              "      <td>Neutered</td>\n",
              "      <td>1</td>\n",
              "      <td>365.0</td>\n",
              "      <td>Shetland Sheepdog Mix</td>\n",
              "    </tr>\n",
              "    <tr>\n",
              "      <th>1</th>\n",
              "      <td>0</td>\n",
              "      <td>Cream Tabby</td>\n",
              "      <td>Spayed</td>\n",
              "      <td>0</td>\n",
              "      <td>365.0</td>\n",
              "      <td>Domestic Shorthair Mix</td>\n",
              "    </tr>\n",
              "    <tr>\n",
              "      <th>2</th>\n",
              "      <td>1</td>\n",
              "      <td>Blue</td>\n",
              "      <td>Neutered</td>\n",
              "      <td>1</td>\n",
              "      <td>730.0</td>\n",
              "      <td>Pit Bull Mix</td>\n",
              "    </tr>\n",
              "    <tr>\n",
              "      <th>3</th>\n",
              "      <td>0</td>\n",
              "      <td>Blue Cream</td>\n",
              "      <td>Intact</td>\n",
              "      <td>1</td>\n",
              "      <td>21.0</td>\n",
              "      <td>Domestic Shorthair Mix</td>\n",
              "    </tr>\n",
              "    <tr>\n",
              "      <th>4</th>\n",
              "      <td>0</td>\n",
              "      <td>Tan</td>\n",
              "      <td>Neutered</td>\n",
              "      <td>1</td>\n",
              "      <td>730.0</td>\n",
              "      <td>Lhasa Apso/Miniature Poodle</td>\n",
              "    </tr>\n",
              "  </tbody>\n",
              "</table>\n",
              "</div>"
            ],
            "text/plain": [
              "   Classifier PrincipalColor  ... TotalDias                        Breed\n",
              "0           0          Brown  ...     365.0        Shetland Sheepdog Mix\n",
              "1           0    Cream Tabby  ...     365.0       Domestic Shorthair Mix\n",
              "2           1           Blue  ...     730.0                 Pit Bull Mix\n",
              "3           0     Blue Cream  ...      21.0       Domestic Shorthair Mix\n",
              "4           0            Tan  ...     730.0  Lhasa Apso/Miniature Poodle\n",
              "\n",
              "[5 rows x 6 columns]"
            ]
          },
          "metadata": {
            "tags": []
          },
          "execution_count": 28
        }
      ]
    },
    {
      "cell_type": "code",
      "metadata": {
        "id": "lzJnexK7sLRF"
      },
      "source": [
        "# Converter para fator as variaveis em string\n",
        "le = preprocessing.LabelEncoder()\n",
        "le.fit(train['PrincipalColor'])\n",
        "train['PrincipalColor_2'] = le.transform(train['PrincipalColor'])\n",
        "le_1 = preprocessing.LabelEncoder()\n",
        "le_1.fit(train['Castrado'])\n",
        "train['Castrado_2'] = le_1.transform(train['Castrado'])\n",
        "le_2 = preprocessing.LabelEncoder()\n",
        "le_2.fit(train['Breed'])\n",
        "train['Breed_2'] = le_2.transform(train['Breed'])"
      ],
      "execution_count": null,
      "outputs": []
    },
    {
      "cell_type": "code",
      "metadata": {
        "colab": {
          "base_uri": "https://localhost:8080/",
          "height": 204
        },
        "id": "pcP0M23wh7DM",
        "outputId": "e6529401-2332-443b-9c19-ee8472273a47"
      },
      "source": [
        "train.head()"
      ],
      "execution_count": null,
      "outputs": [
        {
          "output_type": "execute_result",
          "data": {
            "text/html": [
              "<div>\n",
              "<style scoped>\n",
              "    .dataframe tbody tr th:only-of-type {\n",
              "        vertical-align: middle;\n",
              "    }\n",
              "\n",
              "    .dataframe tbody tr th {\n",
              "        vertical-align: top;\n",
              "    }\n",
              "\n",
              "    .dataframe thead th {\n",
              "        text-align: right;\n",
              "    }\n",
              "</style>\n",
              "<table border=\"1\" class=\"dataframe\">\n",
              "  <thead>\n",
              "    <tr style=\"text-align: right;\">\n",
              "      <th></th>\n",
              "      <th>Classifier</th>\n",
              "      <th>PrincipalColor</th>\n",
              "      <th>Castrado</th>\n",
              "      <th>Sex</th>\n",
              "      <th>TotalDias</th>\n",
              "      <th>Breed</th>\n",
              "      <th>PrincipalColor_2</th>\n",
              "      <th>Castrado_2</th>\n",
              "      <th>Breed_2</th>\n",
              "    </tr>\n",
              "  </thead>\n",
              "  <tbody>\n",
              "    <tr>\n",
              "      <th>0</th>\n",
              "      <td>0</td>\n",
              "      <td>Brown</td>\n",
              "      <td>Neutered</td>\n",
              "      <td>1</td>\n",
              "      <td>365.0</td>\n",
              "      <td>Shetland Sheepdog Mix</td>\n",
              "      <td>15</td>\n",
              "      <td>1</td>\n",
              "      <td>1221</td>\n",
              "    </tr>\n",
              "    <tr>\n",
              "      <th>1</th>\n",
              "      <td>0</td>\n",
              "      <td>Cream Tabby</td>\n",
              "      <td>Spayed</td>\n",
              "      <td>0</td>\n",
              "      <td>365.0</td>\n",
              "      <td>Domestic Shorthair Mix</td>\n",
              "      <td>26</td>\n",
              "      <td>2</td>\n",
              "      <td>640</td>\n",
              "    </tr>\n",
              "    <tr>\n",
              "      <th>2</th>\n",
              "      <td>1</td>\n",
              "      <td>Blue</td>\n",
              "      <td>Neutered</td>\n",
              "      <td>1</td>\n",
              "      <td>730.0</td>\n",
              "      <td>Pit Bull Mix</td>\n",
              "      <td>7</td>\n",
              "      <td>1</td>\n",
              "      <td>1066</td>\n",
              "    </tr>\n",
              "    <tr>\n",
              "      <th>3</th>\n",
              "      <td>0</td>\n",
              "      <td>Blue Cream</td>\n",
              "      <td>Intact</td>\n",
              "      <td>1</td>\n",
              "      <td>21.0</td>\n",
              "      <td>Domestic Shorthair Mix</td>\n",
              "      <td>8</td>\n",
              "      <td>0</td>\n",
              "      <td>640</td>\n",
              "    </tr>\n",
              "    <tr>\n",
              "      <th>4</th>\n",
              "      <td>0</td>\n",
              "      <td>Tan</td>\n",
              "      <td>Neutered</td>\n",
              "      <td>1</td>\n",
              "      <td>730.0</td>\n",
              "      <td>Lhasa Apso/Miniature Poodle</td>\n",
              "      <td>49</td>\n",
              "      <td>1</td>\n",
              "      <td>914</td>\n",
              "    </tr>\n",
              "  </tbody>\n",
              "</table>\n",
              "</div>"
            ],
            "text/plain": [
              "   Classifier PrincipalColor  Castrado  ...  PrincipalColor_2  Castrado_2 Breed_2\n",
              "0           0          Brown  Neutered  ...                15           1    1221\n",
              "1           0    Cream Tabby    Spayed  ...                26           2     640\n",
              "2           1           Blue  Neutered  ...                 7           1    1066\n",
              "3           0     Blue Cream    Intact  ...                 8           0     640\n",
              "4           0            Tan  Neutered  ...                49           1     914\n",
              "\n",
              "[5 rows x 9 columns]"
            ]
          },
          "metadata": {
            "tags": []
          },
          "execution_count": 30
        }
      ]
    },
    {
      "cell_type": "code",
      "metadata": {
        "colab": {
          "base_uri": "https://localhost:8080/",
          "height": 204
        },
        "id": "0NWLqQ3Ji8_d",
        "outputId": "8af49109-380c-4924-bf9c-abb9dacff78b"
      },
      "source": [
        "train = train[['Classifier','Sex','TotalDias','PrincipalColor_2','Castrado_2','Breed_2']]\n",
        "train.head(5)"
      ],
      "execution_count": null,
      "outputs": [
        {
          "output_type": "execute_result",
          "data": {
            "text/html": [
              "<div>\n",
              "<style scoped>\n",
              "    .dataframe tbody tr th:only-of-type {\n",
              "        vertical-align: middle;\n",
              "    }\n",
              "\n",
              "    .dataframe tbody tr th {\n",
              "        vertical-align: top;\n",
              "    }\n",
              "\n",
              "    .dataframe thead th {\n",
              "        text-align: right;\n",
              "    }\n",
              "</style>\n",
              "<table border=\"1\" class=\"dataframe\">\n",
              "  <thead>\n",
              "    <tr style=\"text-align: right;\">\n",
              "      <th></th>\n",
              "      <th>Classifier</th>\n",
              "      <th>Sex</th>\n",
              "      <th>TotalDias</th>\n",
              "      <th>PrincipalColor_2</th>\n",
              "      <th>Castrado_2</th>\n",
              "      <th>Breed_2</th>\n",
              "    </tr>\n",
              "  </thead>\n",
              "  <tbody>\n",
              "    <tr>\n",
              "      <th>0</th>\n",
              "      <td>0</td>\n",
              "      <td>1</td>\n",
              "      <td>365.0</td>\n",
              "      <td>15</td>\n",
              "      <td>1</td>\n",
              "      <td>1221</td>\n",
              "    </tr>\n",
              "    <tr>\n",
              "      <th>1</th>\n",
              "      <td>0</td>\n",
              "      <td>0</td>\n",
              "      <td>365.0</td>\n",
              "      <td>26</td>\n",
              "      <td>2</td>\n",
              "      <td>640</td>\n",
              "    </tr>\n",
              "    <tr>\n",
              "      <th>2</th>\n",
              "      <td>1</td>\n",
              "      <td>1</td>\n",
              "      <td>730.0</td>\n",
              "      <td>7</td>\n",
              "      <td>1</td>\n",
              "      <td>1066</td>\n",
              "    </tr>\n",
              "    <tr>\n",
              "      <th>3</th>\n",
              "      <td>0</td>\n",
              "      <td>1</td>\n",
              "      <td>21.0</td>\n",
              "      <td>8</td>\n",
              "      <td>0</td>\n",
              "      <td>640</td>\n",
              "    </tr>\n",
              "    <tr>\n",
              "      <th>4</th>\n",
              "      <td>0</td>\n",
              "      <td>1</td>\n",
              "      <td>730.0</td>\n",
              "      <td>49</td>\n",
              "      <td>1</td>\n",
              "      <td>914</td>\n",
              "    </tr>\n",
              "  </tbody>\n",
              "</table>\n",
              "</div>"
            ],
            "text/plain": [
              "   Classifier  Sex  TotalDias  PrincipalColor_2  Castrado_2  Breed_2\n",
              "0           0    1      365.0                15           1     1221\n",
              "1           0    0      365.0                26           2      640\n",
              "2           1    1      730.0                 7           1     1066\n",
              "3           0    1       21.0                 8           0      640\n",
              "4           0    1      730.0                49           1      914"
            ]
          },
          "metadata": {
            "tags": []
          },
          "execution_count": 31
        }
      ]
    },
    {
      "cell_type": "code",
      "metadata": {
        "id": "bljiToSVjI7G"
      },
      "source": [
        "# Preparação para base de treino e de teste\n",
        "X = train.drop('Classifier',axis=1)\n",
        "y = train['Classifier']"
      ],
      "execution_count": null,
      "outputs": []
    },
    {
      "cell_type": "code",
      "metadata": {
        "id": "EOygkngQkP29"
      },
      "source": [
        "# Segregação treino e teste\n",
        "X_train, X_test, y_train, y_test = train_test_split(X, y, test_size=0.3, random_state=101)"
      ],
      "execution_count": null,
      "outputs": []
    },
    {
      "cell_type": "code",
      "metadata": {
        "colab": {
          "base_uri": "https://localhost:8080/"
        },
        "id": "YkyQJ2lfkY3a",
        "outputId": "ab481cc4-60b7-402b-8846-4b98c1bda867"
      },
      "source": [
        "# Modelo de Árvore de Decisão\n",
        "dt = DecisionTreeClassifier()\n",
        "dt = dt.fit(X_train,y_train)\n",
        "dt"
      ],
      "execution_count": null,
      "outputs": [
        {
          "output_type": "execute_result",
          "data": {
            "text/plain": [
              "DecisionTreeClassifier(ccp_alpha=0.0, class_weight=None, criterion='gini',\n",
              "                       max_depth=None, max_features=None, max_leaf_nodes=None,\n",
              "                       min_impurity_decrease=0.0, min_impurity_split=None,\n",
              "                       min_samples_leaf=1, min_samples_split=2,\n",
              "                       min_weight_fraction_leaf=0.0, presort='deprecated',\n",
              "                       random_state=None, splitter='best')"
            ]
          },
          "metadata": {
            "tags": []
          },
          "execution_count": 34
        }
      ]
    },
    {
      "cell_type": "code",
      "metadata": {
        "id": "F76XVh1-khX1"
      },
      "source": [
        "pred = dt.predict(X_test)"
      ],
      "execution_count": null,
      "outputs": []
    },
    {
      "cell_type": "code",
      "metadata": {
        "colab": {
          "base_uri": "https://localhost:8080/"
        },
        "id": "nl793DkDkkF8",
        "outputId": "a4cffad8-6323-404e-a68c-1a5b8e3f9d63"
      },
      "source": [
        "print(classification_report(y_test,pred))"
      ],
      "execution_count": null,
      "outputs": [
        {
          "output_type": "stream",
          "text": [
            "              precision    recall  f1-score   support\n",
            "\n",
            "           0       0.76      0.80      0.78      4821\n",
            "           1       0.67      0.63      0.65      3192\n",
            "\n",
            "    accuracy                           0.73      8013\n",
            "   macro avg       0.72      0.71      0.71      8013\n",
            "weighted avg       0.73      0.73      0.73      8013\n",
            "\n"
          ],
          "name": "stdout"
        }
      ]
    },
    {
      "cell_type": "code",
      "metadata": {
        "colab": {
          "base_uri": "https://localhost:8080/"
        },
        "id": "Q769gw2SlFFB",
        "outputId": "0eea9ca9-ed86-4732-f469-c035e7823af6"
      },
      "source": [
        "print(confusion_matrix(y_test,pred))"
      ],
      "execution_count": null,
      "outputs": [
        {
          "output_type": "stream",
          "text": [
            "[[3839  982]\n",
            " [1193 1999]]\n"
          ],
          "name": "stdout"
        }
      ]
    },
    {
      "cell_type": "code",
      "metadata": {
        "colab": {
          "base_uri": "https://localhost:8080/"
        },
        "id": "V5lisg0Alkcd",
        "outputId": "ea1ee5eb-96eb-4eab-b30e-f577329a8b13"
      },
      "source": [
        "# Aplicando Random Forest -> Modelo mto bom e podemos iterar nele\n",
        "rf =RandomForestClassifier(n_estimators=18)\n",
        "rf = rf.fit(X_train,y_train)\n",
        "rf"
      ],
      "execution_count": null,
      "outputs": [
        {
          "output_type": "execute_result",
          "data": {
            "text/plain": [
              "RandomForestClassifier(bootstrap=True, ccp_alpha=0.0, class_weight=None,\n",
              "                       criterion='gini', max_depth=None, max_features='auto',\n",
              "                       max_leaf_nodes=None, max_samples=None,\n",
              "                       min_impurity_decrease=0.0, min_impurity_split=None,\n",
              "                       min_samples_leaf=1, min_samples_split=2,\n",
              "                       min_weight_fraction_leaf=0.0, n_estimators=18,\n",
              "                       n_jobs=None, oob_score=False, random_state=None,\n",
              "                       verbose=0, warm_start=False)"
            ]
          },
          "metadata": {
            "tags": []
          },
          "execution_count": 38
        }
      ]
    },
    {
      "cell_type": "code",
      "metadata": {
        "id": "60GdJsvglkXM"
      },
      "source": [
        "predrf = rf.predict(X_test)"
      ],
      "execution_count": null,
      "outputs": []
    },
    {
      "cell_type": "code",
      "metadata": {
        "colab": {
          "base_uri": "https://localhost:8080/"
        },
        "id": "Vp_9QQA7lkVW",
        "outputId": "7e427d98-1145-4522-db60-21de5d028dc6"
      },
      "source": [
        "print(confusion_matrix(y_test,predrf))\n",
        "print('\\n')\n",
        "print(classification_report(y_test,predrf))"
      ],
      "execution_count": null,
      "outputs": [
        {
          "output_type": "stream",
          "text": [
            "[[3805 1016]\n",
            " [1070 2122]]\n",
            "\n",
            "\n",
            "              precision    recall  f1-score   support\n",
            "\n",
            "           0       0.78      0.79      0.78      4821\n",
            "           1       0.68      0.66      0.67      3192\n",
            "\n",
            "    accuracy                           0.74      8013\n",
            "   macro avg       0.73      0.73      0.73      8013\n",
            "weighted avg       0.74      0.74      0.74      8013\n",
            "\n"
          ],
          "name": "stdout"
        }
      ]
    },
    {
      "cell_type": "code",
      "metadata": {
        "id": "goxoBZ8QlkRf"
      },
      "source": [
        "matriz_erro =[]\n",
        "for i in range(1,25):\n",
        "    rf =RandomForestClassifier(n_estimators=i)\n",
        "    rf = rf.fit(X_train,y_train)\n",
        "    predrf = rf.predict(X_test)\n",
        "    matriz_erro.append(np.mean(predrf!=y_test))"
      ],
      "execution_count": null,
      "outputs": []
    },
    {
      "cell_type": "code",
      "metadata": {
        "colab": {
          "base_uri": "https://localhost:8080/",
          "height": 514
        },
        "id": "xR63zDywlkOq",
        "outputId": "82cd48ac-1947-4692-fcd1-a29f55d1a146"
      },
      "source": [
        "plt.figure(figsize=(12,8))\n",
        "plt.plot(range(1,25), matriz_erro, color='blue')\n",
        "plt.xlabel('Iterações')\n",
        "plt.ylabel('Erro Médio')"
      ],
      "execution_count": null,
      "outputs": [
        {
          "output_type": "execute_result",
          "data": {
            "text/plain": [
              "Text(0, 0.5, 'Erro Médio')"
            ]
          },
          "metadata": {
            "tags": []
          },
          "execution_count": 42
        },
        {
          "output_type": "display_data",
          "data": {
            "image/png": "[encoded data removed]",
            "text/plain": [
              "<Figure size 864x576 with 1 Axes>"
            ]
          },
          "metadata": {
            "tags": [],
            "needs_background": "light"
          }
        }
      ]
    },
    {
      "cell_type": "code",
      "metadata": {
        "colab": {
          "base_uri": "https://localhost:8080/"
        },
        "id": "BwQqu7Vapx-j",
        "outputId": "5231ba81-e1ad-49f4-e60b-351b0234b1a6"
      },
      "source": [
        "predrf"
      ],
      "execution_count": null,
      "outputs": [
        {
          "output_type": "execute_result",
          "data": {
            "text/plain": [
              "array([1, 0, 0, ..., 1, 1, 1])"
            ]
          },
          "metadata": {
            "tags": []
          },
          "execution_count": 43
        }
      ]
    },
    {
      "cell_type": "code",
      "metadata": {
        "colab": {
          "base_uri": "https://localhost:8080/",
          "height": 419
        },
        "id": "W0SvFU0Xpo10",
        "outputId": "3a536504-b978-4ab6-ca89-d3966b9efb76"
      },
      "source": [
        "# Fazer a tabela final de export\n",
        "\n",
        "table_final = pd.concat([X_test,y_test],axis=1)\n",
        "table_final"
      ],
      "execution_count": null,
      "outputs": [
        {
          "output_type": "execute_result",
          "data": {
            "text/html": [
              "<div>\n",
              "<style scoped>\n",
              "    .dataframe tbody tr th:only-of-type {\n",
              "        vertical-align: middle;\n",
              "    }\n",
              "\n",
              "    .dataframe tbody tr th {\n",
              "        vertical-align: top;\n",
              "    }\n",
              "\n",
              "    .dataframe thead th {\n",
              "        text-align: right;\n",
              "    }\n",
              "</style>\n",
              "<table border=\"1\" class=\"dataframe\">\n",
              "  <thead>\n",
              "    <tr style=\"text-align: right;\">\n",
              "      <th></th>\n",
              "      <th>Sex</th>\n",
              "      <th>TotalDias</th>\n",
              "      <th>PrincipalColor_2</th>\n",
              "      <th>Castrado_2</th>\n",
              "      <th>Breed_2</th>\n",
              "      <th>Classifier</th>\n",
              "    </tr>\n",
              "  </thead>\n",
              "  <tbody>\n",
              "    <tr>\n",
              "      <th>13814</th>\n",
              "      <td>0</td>\n",
              "      <td>60.0</td>\n",
              "      <td>51</td>\n",
              "      <td>2</td>\n",
              "      <td>640</td>\n",
              "      <td>1</td>\n",
              "    </tr>\n",
              "    <tr>\n",
              "      <th>5707</th>\n",
              "      <td>0</td>\n",
              "      <td>4745.0</td>\n",
              "      <td>51</td>\n",
              "      <td>2</td>\n",
              "      <td>632</td>\n",
              "      <td>1</td>\n",
              "    </tr>\n",
              "    <tr>\n",
              "      <th>21395</th>\n",
              "      <td>1</td>\n",
              "      <td>5475.0</td>\n",
              "      <td>2</td>\n",
              "      <td>1</td>\n",
              "      <td>450</td>\n",
              "      <td>0</td>\n",
              "    </tr>\n",
              "    <tr>\n",
              "      <th>9142</th>\n",
              "      <td>0</td>\n",
              "      <td>365.0</td>\n",
              "      <td>17</td>\n",
              "      <td>2</td>\n",
              "      <td>425</td>\n",
              "      <td>1</td>\n",
              "    </tr>\n",
              "    <tr>\n",
              "      <th>17370</th>\n",
              "      <td>0</td>\n",
              "      <td>365.0</td>\n",
              "      <td>30</td>\n",
              "      <td>2</td>\n",
              "      <td>1255</td>\n",
              "      <td>0</td>\n",
              "    </tr>\n",
              "    <tr>\n",
              "      <th>...</th>\n",
              "      <td>...</td>\n",
              "      <td>...</td>\n",
              "      <td>...</td>\n",
              "      <td>...</td>\n",
              "      <td>...</td>\n",
              "      <td>...</td>\n",
              "    </tr>\n",
              "    <tr>\n",
              "      <th>6047</th>\n",
              "      <td>0</td>\n",
              "      <td>60.0</td>\n",
              "      <td>23</td>\n",
              "      <td>2</td>\n",
              "      <td>847</td>\n",
              "      <td>1</td>\n",
              "    </tr>\n",
              "    <tr>\n",
              "      <th>5355</th>\n",
              "      <td>0</td>\n",
              "      <td>365.0</td>\n",
              "      <td>21</td>\n",
              "      <td>0</td>\n",
              "      <td>640</td>\n",
              "      <td>0</td>\n",
              "    </tr>\n",
              "    <tr>\n",
              "      <th>11654</th>\n",
              "      <td>0</td>\n",
              "      <td>1825.0</td>\n",
              "      <td>16</td>\n",
              "      <td>2</td>\n",
              "      <td>407</td>\n",
              "      <td>0</td>\n",
              "    </tr>\n",
              "    <tr>\n",
              "      <th>799</th>\n",
              "      <td>1</td>\n",
              "      <td>365.0</td>\n",
              "      <td>54</td>\n",
              "      <td>1</td>\n",
              "      <td>1313</td>\n",
              "      <td>0</td>\n",
              "    </tr>\n",
              "    <tr>\n",
              "      <th>26600</th>\n",
              "      <td>1</td>\n",
              "      <td>90.0</td>\n",
              "      <td>20</td>\n",
              "      <td>1</td>\n",
              "      <td>1274</td>\n",
              "      <td>1</td>\n",
              "    </tr>\n",
              "  </tbody>\n",
              "</table>\n",
              "<p>8013 rows × 6 columns</p>\n",
              "</div>"
            ],
            "text/plain": [
              "       Sex  TotalDias  PrincipalColor_2  Castrado_2  Breed_2  Classifier\n",
              "13814    0       60.0                51           2      640           1\n",
              "5707     0     4745.0                51           2      632           1\n",
              "21395    1     5475.0                 2           1      450           0\n",
              "9142     0      365.0                17           2      425           1\n",
              "17370    0      365.0                30           2     1255           0\n",
              "...    ...        ...               ...         ...      ...         ...\n",
              "6047     0       60.0                23           2      847           1\n",
              "5355     0      365.0                21           0      640           0\n",
              "11654    0     1825.0                16           2      407           0\n",
              "799      1      365.0                54           1     1313           0\n",
              "26600    1       90.0                20           1     1274           1\n",
              "\n",
              "[8013 rows x 6 columns]"
            ]
          },
          "metadata": {
            "tags": []
          },
          "execution_count": 44
        }
      ]
    },
    {
      "cell_type": "code",
      "metadata": {
        "id": "SNHilV77q7wg",
        "colab": {
          "base_uri": "https://localhost:8080/",
          "height": 419
        },
        "outputId": "35cc5936-3345-4eab-a517-726550c5bd11"
      },
      "source": [
        "table_final"
      ],
      "execution_count": null,
      "outputs": [
        {
          "output_type": "execute_result",
          "data": {
            "text/html": [
              "<div>\n",
              "<style scoped>\n",
              "    .dataframe tbody tr th:only-of-type {\n",
              "        vertical-align: middle;\n",
              "    }\n",
              "\n",
              "    .dataframe tbody tr th {\n",
              "        vertical-align: top;\n",
              "    }\n",
              "\n",
              "    .dataframe thead th {\n",
              "        text-align: right;\n",
              "    }\n",
              "</style>\n",
              "<table border=\"1\" class=\"dataframe\">\n",
              "  <thead>\n",
              "    <tr style=\"text-align: right;\">\n",
              "      <th></th>\n",
              "      <th>Sex</th>\n",
              "      <th>TotalDias</th>\n",
              "      <th>PrincipalColor_2</th>\n",
              "      <th>Castrado_2</th>\n",
              "      <th>Breed_2</th>\n",
              "      <th>Classifier</th>\n",
              "    </tr>\n",
              "  </thead>\n",
              "  <tbody>\n",
              "    <tr>\n",
              "      <th>13814</th>\n",
              "      <td>0</td>\n",
              "      <td>60.0</td>\n",
              "      <td>51</td>\n",
              "      <td>2</td>\n",
              "      <td>640</td>\n",
              "      <td>1</td>\n",
              "    </tr>\n",
              "    <tr>\n",
              "      <th>5707</th>\n",
              "      <td>0</td>\n",
              "      <td>4745.0</td>\n",
              "      <td>51</td>\n",
              "      <td>2</td>\n",
              "      <td>632</td>\n",
              "      <td>1</td>\n",
              "    </tr>\n",
              "    <tr>\n",
              "      <th>21395</th>\n",
              "      <td>1</td>\n",
              "      <td>5475.0</td>\n",
              "      <td>2</td>\n",
              "      <td>1</td>\n",
              "      <td>450</td>\n",
              "      <td>0</td>\n",
              "    </tr>\n",
              "    <tr>\n",
              "      <th>9142</th>\n",
              "      <td>0</td>\n",
              "      <td>365.0</td>\n",
              "      <td>17</td>\n",
              "      <td>2</td>\n",
              "      <td>425</td>\n",
              "      <td>1</td>\n",
              "    </tr>\n",
              "    <tr>\n",
              "      <th>17370</th>\n",
              "      <td>0</td>\n",
              "      <td>365.0</td>\n",
              "      <td>30</td>\n",
              "      <td>2</td>\n",
              "      <td>1255</td>\n",
              "      <td>0</td>\n",
              "    </tr>\n",
              "    <tr>\n",
              "      <th>...</th>\n",
              "      <td>...</td>\n",
              "      <td>...</td>\n",
              "      <td>...</td>\n",
              "      <td>...</td>\n",
              "      <td>...</td>\n",
              "      <td>...</td>\n",
              "    </tr>\n",
              "    <tr>\n",
              "      <th>6047</th>\n",
              "      <td>0</td>\n",
              "      <td>60.0</td>\n",
              "      <td>23</td>\n",
              "      <td>2</td>\n",
              "      <td>847</td>\n",
              "      <td>1</td>\n",
              "    </tr>\n",
              "    <tr>\n",
              "      <th>5355</th>\n",
              "      <td>0</td>\n",
              "      <td>365.0</td>\n",
              "      <td>21</td>\n",
              "      <td>0</td>\n",
              "      <td>640</td>\n",
              "      <td>0</td>\n",
              "    </tr>\n",
              "    <tr>\n",
              "      <th>11654</th>\n",
              "      <td>0</td>\n",
              "      <td>1825.0</td>\n",
              "      <td>16</td>\n",
              "      <td>2</td>\n",
              "      <td>407</td>\n",
              "      <td>0</td>\n",
              "    </tr>\n",
              "    <tr>\n",
              "      <th>799</th>\n",
              "      <td>1</td>\n",
              "      <td>365.0</td>\n",
              "      <td>54</td>\n",
              "      <td>1</td>\n",
              "      <td>1313</td>\n",
              "      <td>0</td>\n",
              "    </tr>\n",
              "    <tr>\n",
              "      <th>26600</th>\n",
              "      <td>1</td>\n",
              "      <td>90.0</td>\n",
              "      <td>20</td>\n",
              "      <td>1</td>\n",
              "      <td>1274</td>\n",
              "      <td>1</td>\n",
              "    </tr>\n",
              "  </tbody>\n",
              "</table>\n",
              "<p>8013 rows × 6 columns</p>\n",
              "</div>"
            ],
            "text/plain": [
              "       Sex  TotalDias  PrincipalColor_2  Castrado_2  Breed_2  Classifier\n",
              "13814    0       60.0                51           2      640           1\n",
              "5707     0     4745.0                51           2      632           1\n",
              "21395    1     5475.0                 2           1      450           0\n",
              "9142     0      365.0                17           2      425           1\n",
              "17370    0      365.0                30           2     1255           0\n",
              "...    ...        ...               ...         ...      ...         ...\n",
              "6047     0       60.0                23           2      847           1\n",
              "5355     0      365.0                21           0      640           0\n",
              "11654    0     1825.0                16           2      407           0\n",
              "799      1      365.0                54           1     1313           0\n",
              "26600    1       90.0                20           1     1274           1\n",
              "\n",
              "[8013 rows x 6 columns]"
            ]
          },
          "metadata": {
            "tags": []
          },
          "execution_count": 45
        }
      ]
    },
    {
      "cell_type": "code",
      "metadata": {
        "id": "VNiI_8eJ1Tw3"
      },
      "source": [
        "# Descobrir o peso das variaveis do modelo\n",
        "feature_names = [f'feature {i}' for i in range(X.shape[1])]"
      ],
      "execution_count": null,
      "outputs": []
    },
    {
      "cell_type": "code",
      "metadata": {
        "colab": {
          "base_uri": "https://localhost:8080/",
          "height": 204
        },
        "id": "XUEU-nAX20dE",
        "outputId": "de324465-261e-4b23-b302-96e4ed12c867"
      },
      "source": [
        "X.head()"
      ],
      "execution_count": null,
      "outputs": [
        {
          "output_type": "execute_result",
          "data": {
            "text/html": [
              "<div>\n",
              "<style scoped>\n",
              "    .dataframe tbody tr th:only-of-type {\n",
              "        vertical-align: middle;\n",
              "    }\n",
              "\n",
              "    .dataframe tbody tr th {\n",
              "        vertical-align: top;\n",
              "    }\n",
              "\n",
              "    .dataframe thead th {\n",
              "        text-align: right;\n",
              "    }\n",
              "</style>\n",
              "<table border=\"1\" class=\"dataframe\">\n",
              "  <thead>\n",
              "    <tr style=\"text-align: right;\">\n",
              "      <th></th>\n",
              "      <th>Sex</th>\n",
              "      <th>TotalDias</th>\n",
              "      <th>PrincipalColor_2</th>\n",
              "      <th>Castrado_2</th>\n",
              "      <th>Breed_2</th>\n",
              "    </tr>\n",
              "  </thead>\n",
              "  <tbody>\n",
              "    <tr>\n",
              "      <th>0</th>\n",
              "      <td>1</td>\n",
              "      <td>365.0</td>\n",
              "      <td>15</td>\n",
              "      <td>1</td>\n",
              "      <td>1221</td>\n",
              "    </tr>\n",
              "    <tr>\n",
              "      <th>1</th>\n",
              "      <td>0</td>\n",
              "      <td>365.0</td>\n",
              "      <td>26</td>\n",
              "      <td>2</td>\n",
              "      <td>640</td>\n",
              "    </tr>\n",
              "    <tr>\n",
              "      <th>2</th>\n",
              "      <td>1</td>\n",
              "      <td>730.0</td>\n",
              "      <td>7</td>\n",
              "      <td>1</td>\n",
              "      <td>1066</td>\n",
              "    </tr>\n",
              "    <tr>\n",
              "      <th>3</th>\n",
              "      <td>1</td>\n",
              "      <td>21.0</td>\n",
              "      <td>8</td>\n",
              "      <td>0</td>\n",
              "      <td>640</td>\n",
              "    </tr>\n",
              "    <tr>\n",
              "      <th>4</th>\n",
              "      <td>1</td>\n",
              "      <td>730.0</td>\n",
              "      <td>49</td>\n",
              "      <td>1</td>\n",
              "      <td>914</td>\n",
              "    </tr>\n",
              "  </tbody>\n",
              "</table>\n",
              "</div>"
            ],
            "text/plain": [
              "   Sex  TotalDias  PrincipalColor_2  Castrado_2  Breed_2\n",
              "0    1      365.0                15           1     1221\n",
              "1    0      365.0                26           2      640\n",
              "2    1      730.0                 7           1     1066\n",
              "3    1       21.0                 8           0      640\n",
              "4    1      730.0                49           1      914"
            ]
          },
          "metadata": {
            "tags": []
          },
          "execution_count": 53
        }
      ]
    },
    {
      "cell_type": "code",
      "metadata": {
        "colab": {
          "base_uri": "https://localhost:8080/"
        },
        "id": "OEOrmjOw2tIZ",
        "outputId": "36fced23-0a96-49e5-bfa7-8dc33a5432bd"
      },
      "source": [
        "feature_names"
      ],
      "execution_count": null,
      "outputs": [
        {
          "output_type": "execute_result",
          "data": {
            "text/plain": [
              "['feature 0', 'feature 1', 'feature 2', 'feature 3', 'feature 4']"
            ]
          },
          "metadata": {
            "tags": []
          },
          "execution_count": 52
        }
      ]
    },
    {
      "cell_type": "code",
      "metadata": {
        "colab": {
          "base_uri": "https://localhost:8080/"
        },
        "id": "M6z0uUlQ26Ph",
        "outputId": "43b5d750-0a92-4960-91dc-1c13ad7a1094"
      },
      "source": [
        "# Peso das variaveis\n",
        "importances = rf.feature_importances_\n",
        "forest_importances = pd.Series(importances, index=feature_names)\n",
        "forest_importances.sort_values(ascending=False)"
      ],
      "execution_count": null,
      "outputs": [
        {
          "output_type": "execute_result",
          "data": {
            "text/plain": [
              "feature 3    0.295100\n",
              "feature 4    0.289435\n",
              "feature 1    0.281882\n",
              "feature 2    0.126479\n",
              "feature 0    0.007104\n",
              "dtype: float64"
            ]
          },
          "metadata": {
            "tags": []
          },
          "execution_count": 59
        }
      ]
    },
    {
      "cell_type": "markdown",
      "metadata": {
        "id": "3ZqINpms5I_L"
      },
      "source": [
        "# Podemos concluir que a ordem das váriaveis que mais influenciam o modelo são:\n",
        "1. Castração do Animal\n",
        "2. Raça do Animal\n",
        "3. Total de dias no abrigo\n",
        "4. Cor do Animal\n",
        "5. Sexo do Animal "
      ]
    }
  ]
}